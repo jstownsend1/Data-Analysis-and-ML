{
 "cells": [
  {
   "cell_type": "markdown",
   "metadata": {},
   "source": [
    "# This notebook is my attempt at the Kaggle Advanced House Prices competition \n",
    "## You can find this at https://www.kaggle.com/c/house-prices-advanced-regression-techniques/overview\n",
    "## I did all the EDA and cleaning of the data and built two different models. One is a Keras Deep Learning Nueral Net and the other is an XGBoost model. You can find the models at the top of the page and then the EDA further down."
   ]
  },
  {
   "cell_type": "code",
   "execution_count": 20,
   "metadata": {},
   "outputs": [],
   "source": [
    "import pandas as pd\n",
    "import numpy as np\n",
    "import seaborn as sns\n",
    "import matplotlib.pyplot as plt\n",
    "from sklearn.metrics import mean_squared_error,mean_absolute_error,explained_variance_score\n",
    "\n",
    "import tensorflow as tf\n",
    "from tensorflow.keras.models import Sequential\n",
    "from tensorflow.keras.layers import Dense,Dropout, Activation\n",
    "from tensorflow.keras.optimizers import Adam\n",
    "\n",
    "\n",
    "from sklearn.preprocessing import MinMaxScaler\n",
    "from sklearn.model_selection import train_test_split\n",
    "\n",
    "from sklearn.metrics import mean_squared_error\n",
    "from sklearn import linear_model"
   ]
  },
  {
   "cell_type": "code",
   "execution_count": 21,
   "metadata": {},
   "outputs": [],
   "source": [
    "#This is where all the cleaning and tranformation happens to the data, it is in methods that are called below\n",
    "#This is going to be used to fix the gargeYrBlt column\n",
    "def fill_in_garage_yr(YearBuilt,GarageYrBlt):\n",
    "    if np.isnan(GarageYrBlt):\n",
    "        return YearBuilt\n",
    "    else:\n",
    "        return GarageYrBlt\n",
    "\n",
    "#Call this method to clean all the data and transform it, put all transformations needed in here\n",
    "def readAndCleanData(df):\n",
    "    #dropping uneeded column\n",
    "    df = df.drop(['Id','Utilities'],axis=1)\n",
    "    \n",
    "    #changing some Nan values to NA or 0\n",
    "    df['LotFrontage'] =df['LotFrontage'].replace(np.nan,0,regex=True)\n",
    "    df['MasVnrArea'] =df['MasVnrArea'].replace(np.nan,0,regex=True)\n",
    "    df['Alley'] =df['Alley'].replace(np.nan,'NA',regex=True)\n",
    "    df['FireplaceQu'] =df['FireplaceQu'].replace(np.nan,'NA',regex=True)\n",
    "    df['GarageType'] =df['GarageType'].replace(np.nan,'NA',regex=True)\n",
    "    df['GarageQual'] =df['GarageQual'].replace(np.nan,'NA',regex=True)\n",
    "    df['GarageCond'] =df['GarageCond'].replace(np.nan,'NA',regex=True)\n",
    "    df['GarageFinish'] =df['GarageFinish'].replace(np.nan,'NA',regex=True)\n",
    "    #df['GarageYrBlt'] =df['GarageYrBlt'].replace(np.nan,'NA',regex=True)\n",
    "    df['PoolQC'] =df['PoolQC'].replace(np.nan,'NA',regex=True)\n",
    "    df['MiscFeature'] =df['MiscFeature'].replace(np.nan,'NA',regex=True)\n",
    "    df['Fence'] =df['Fence'].replace(np.nan,'NA',regex=True)\n",
    "    \n",
    "    #Fixing the null values in the GarageYrBuilt\n",
    "    df['GarageYrBlt'] = df.apply(lambda x: fill_in_garage_yr(x['YearBuilt'],x['GarageYrBlt']),axis=1)\n",
    "\n",
    "    #Getting all the dummies\n",
    "    dummies= pd.get_dummies(df['MSSubClass'],drop_first=True)\n",
    "    df = pd.concat([df.drop('MSSubClass',axis=1),dummies],axis=1)\n",
    "    dummies= pd.get_dummies(df[['MSZoning','Street','Alley','LotShape','LandContour','LotConfig','LandSlope',\n",
    "                                'Neighborhood','Condition1','Condition2','BldgType','HouseStyle','RoofStyle',\n",
    "                                'RoofMatl','Exterior2nd','MasVnrType','ExterQual','ExterCond','Foundation',\n",
    "                               'BsmtQual','BsmtCond','BsmtExposure','BsmtFinType1','BsmtFinType2','Heating',\n",
    "                                'HeatingQC','CentralAir','Electrical','KitchenQual', 'Functional', \n",
    "                                'FireplaceQu', 'GarageType','GarageFinish', 'GarageQual', 'GarageCond', \n",
    "                                'PavedDrive', 'PoolQC','Fence', 'MiscFeature', 'SaleType', 'SaleCondition'\n",
    "                               ]],drop_first=True)\n",
    "    df = df.drop(['MSZoning','Street','Alley','LotShape','LandContour','LotConfig','LandSlope',\n",
    "                  'Neighborhood','Condition1','Condition2','BldgType','HouseStyle','RoofStyle',\n",
    "                  'RoofMatl','Exterior1st','Exterior2nd','MasVnrType','ExterQual','ExterCond','Foundation',\n",
    "                  'BsmtQual','BsmtCond','BsmtExposure','BsmtFinType1','BsmtFinType2','Heating',\n",
    "                  'HeatingQC','CentralAir','Electrical','KitchenQual', 'Functional', 'FireplaceQu', 'GarageType',\n",
    "                   'GarageFinish', 'GarageQual', 'GarageCond', 'PavedDrive', 'PoolQC',\n",
    "                   'Fence', 'MiscFeature', 'SaleType', 'SaleCondition'],axis=1)\n",
    "    \n",
    "    df = pd.concat([df,dummies],axis=1)\n",
    "    return df"
   ]
  },
  {
   "cell_type": "code",
   "execution_count": 33,
   "metadata": {},
   "outputs": [],
   "source": [
    "def readAndCleanData(df):\n",
    "    #dropping uneeded column\n",
    "    df = df.drop(['Id','Utilities'],axis=1)\n",
    "    \n",
    "    #changing some Nan values to NA or 0\n",
    "    df['LotFrontage'] = df['LotFrontage'].fillna(df.groupby('1stFlrSF')['LotFrontage'].transform('mean'))\n",
    "    df['LotFrontage'].interpolate(method='linear',inplace=True)\n",
    "    df['LotFrontage']=df['LotFrontage'].astype(int)\n",
    "    df['MasVnrArea'] = df['MasVnrArea'].fillna(df.groupby('MasVnrType')['MasVnrArea'].transform('mean'))\n",
    "    df['MasVnrArea'].interpolate(method='linear',inplace=True)\n",
    "    df['MasVnrArea']=df['MasVnrArea'].astype(int)\n",
    "    df[\"Alley\"] = df[\"Alley\"].fillna(\"None\")\n",
    "    df[\"FireplaceQu\"] = df[\"FireplaceQu\"].fillna(\"None\")\n",
    "    df['GarageType'] =df['GarageType'].replace(np.nan,'NA',regex=True)\n",
    "    df['GarageQual'] =df['GarageQual'].replace(np.nan,'NA',regex=True)\n",
    "    df['GarageCond'] =df['GarageCond'].replace(np.nan,'NA',regex=True)\n",
    "    df['GarageFinish'] =df['GarageFinish'].replace(np.nan,'NA',regex=True)\n",
    "    #df['GarageYrBlt'] =df['GarageYrBlt'].replace(np.nan,'NA',regex=True)\n",
    "    df['PoolQC'] =df['PoolQC'].replace(np.nan,'NA',regex=True)\n",
    "    df['MiscFeature'] =df['MiscFeature'].replace(np.nan,'NA',regex=True)\n",
    "    df['Fence'] =df['Fence'].replace(np.nan,'NA',regex=True)\n",
    "    \n",
    "    #Fixing the null values in the GarageYrBuilt\n",
    "    df['GarageYrBlt'] = df.apply(lambda x: fill_in_garage_yr(x['YearBuilt'],x['GarageYrBlt']),axis=1)\n",
    "\n",
    "    #Getting all the dummies\n",
    "    dummies= pd.get_dummies(df['MSSubClass'],drop_first=True)\n",
    "    df = pd.concat([df.drop('MSSubClass',axis=1),dummies],axis=1)\n",
    "    dummies= pd.get_dummies(df[['MSZoning','Street','Alley','LotShape','LandContour','LotConfig','LandSlope',\n",
    "                                'Neighborhood','Condition1','Condition2','BldgType','HouseStyle','RoofStyle',\n",
    "                                'RoofMatl','Exterior2nd','MasVnrType','ExterQual','ExterCond','Foundation',\n",
    "                               'BsmtQual','BsmtCond','BsmtExposure','BsmtFinType1','BsmtFinType2','Heating',\n",
    "                                'HeatingQC','CentralAir','Electrical','KitchenQual', 'Functional', \n",
    "                                'FireplaceQu', 'GarageType','GarageFinish', 'GarageQual', 'GarageCond', \n",
    "                                'PavedDrive', 'PoolQC','Fence', 'MiscFeature', 'SaleType', 'SaleCondition'\n",
    "                               ]],drop_first=True)\n",
    "    df = df.drop(['MSZoning','Street','Alley','LotShape','LandContour','LotConfig','LandSlope',\n",
    "                  'Neighborhood','Condition1','Condition2','BldgType','HouseStyle','RoofStyle',\n",
    "                  'RoofMatl','Exterior1st','Exterior2nd','MasVnrType','ExterQual','ExterCond','Foundation',\n",
    "                  'BsmtQual','BsmtCond','BsmtExposure','BsmtFinType1','BsmtFinType2','Heating',\n",
    "                  'HeatingQC','CentralAir','Electrical','KitchenQual', 'Functional', 'FireplaceQu', 'GarageType',\n",
    "                   'GarageFinish', 'GarageQual', 'GarageCond', 'PavedDrive', 'PoolQC',\n",
    "                   'Fence', 'MiscFeature', 'SaleType', 'SaleCondition'],axis=1)\n",
    "    \n",
    "    df = pd.concat([df,dummies],axis=1)\n",
    "    return df"
   ]
  },
  {
   "cell_type": "code",
   "execution_count": 34,
   "metadata": {},
   "outputs": [
    {
     "name": "stdout",
     "output_type": "stream",
     "text": [
      "(1460, 254)\n",
      "(1459, 254)\n"
     ]
    }
   ],
   "source": [
    "# This cell is for calling the cleaning of the data\n",
    "df_train = pd.read_csv('./train.csv')\n",
    "df_test = pd.read_csv('./test.csv')\n",
    "#Adding a temp sales price for the test set just so I can combine the data together to transform\n",
    "df_test['SalePrice'] = 0\n",
    "df = df_train.append(df_test)\n",
    "df = readAndCleanData(df)\n",
    "#Now all the data has the same columns and I will split them here into the train and test set and then train the model on the train and then predict on the test\n",
    "df_train= df[df['SalePrice'] > 0]\n",
    "df_test = df[df['SalePrice'] == 0]\n",
    "print(df_train.shape)\n",
    "print(df_test.shape)\n",
    "# then I build the model and train as shown below and then predict the prices of the test set and add back the ID column"
   ]
  },
  {
   "cell_type": "code",
   "execution_count": 1,
   "metadata": {},
   "outputs": [
    {
     "ename": "NameError",
     "evalue": "name 'df_train' is not defined",
     "output_type": "error",
     "traceback": [
      "\u001b[1;31m---------------------------------------------------------------------------\u001b[0m",
      "\u001b[1;31mNameError\u001b[0m                                 Traceback (most recent call last)",
      "\u001b[1;32m<ipython-input-1-67c17448a9ee>\u001b[0m in \u001b[0;36m<module>\u001b[1;34m\u001b[0m\n\u001b[0;32m      3\u001b[0m \u001b[1;33m\u001b[0m\u001b[0m\n\u001b[0;32m      4\u001b[0m \u001b[1;31m#Taking out some extreme outliers\u001b[0m\u001b[1;33m\u001b[0m\u001b[1;33m\u001b[0m\u001b[1;33m\u001b[0m\u001b[0m\n\u001b[1;32m----> 5\u001b[1;33m \u001b[0mdf_train\u001b[0m\u001b[1;33m.\u001b[0m\u001b[0mdrop\u001b[0m\u001b[1;33m(\u001b[0m\u001b[0mdf_train\u001b[0m\u001b[1;33m[\u001b[0m\u001b[1;33m(\u001b[0m\u001b[0mdf_train\u001b[0m\u001b[1;33m[\u001b[0m\u001b[1;34m'OverallQual'\u001b[0m\u001b[1;33m]\u001b[0m\u001b[1;33m<\u001b[0m\u001b[1;36m5\u001b[0m\u001b[1;33m)\u001b[0m \u001b[1;33m&\u001b[0m \u001b[1;33m(\u001b[0m\u001b[0mdf_train\u001b[0m\u001b[1;33m[\u001b[0m\u001b[1;34m'SalePrice'\u001b[0m\u001b[1;33m]\u001b[0m\u001b[1;33m>\u001b[0m\u001b[1;36m200000\u001b[0m\u001b[1;33m)\u001b[0m\u001b[1;33m]\u001b[0m\u001b[1;33m.\u001b[0m\u001b[0mindex\u001b[0m\u001b[1;33m,\u001b[0m \u001b[0minplace\u001b[0m\u001b[1;33m=\u001b[0m\u001b[1;32mTrue\u001b[0m\u001b[1;33m)\u001b[0m\u001b[1;33m\u001b[0m\u001b[1;33m\u001b[0m\u001b[0m\n\u001b[0m\u001b[0;32m      6\u001b[0m \u001b[0mdf_train\u001b[0m\u001b[1;33m.\u001b[0m\u001b[0mdrop\u001b[0m\u001b[1;33m(\u001b[0m\u001b[0mdf_train\u001b[0m\u001b[1;33m[\u001b[0m\u001b[1;33m(\u001b[0m\u001b[0mdf_train\u001b[0m\u001b[1;33m[\u001b[0m\u001b[1;34m'GrLivArea'\u001b[0m\u001b[1;33m]\u001b[0m\u001b[1;33m>\u001b[0m\u001b[1;36m4500\u001b[0m\u001b[1;33m)\u001b[0m \u001b[1;33m&\u001b[0m \u001b[1;33m(\u001b[0m\u001b[0mdf_train\u001b[0m\u001b[1;33m[\u001b[0m\u001b[1;34m'SalePrice'\u001b[0m\u001b[1;33m]\u001b[0m\u001b[1;33m<\u001b[0m\u001b[1;36m300000\u001b[0m\u001b[1;33m)\u001b[0m\u001b[1;33m]\u001b[0m\u001b[1;33m.\u001b[0m\u001b[0mindex\u001b[0m\u001b[1;33m,\u001b[0m \u001b[0minplace\u001b[0m\u001b[1;33m=\u001b[0m\u001b[1;32mTrue\u001b[0m\u001b[1;33m)\u001b[0m\u001b[1;33m\u001b[0m\u001b[1;33m\u001b[0m\u001b[0m\n\u001b[0;32m      7\u001b[0m \u001b[1;33m\u001b[0m\u001b[0m\n",
      "\u001b[1;31mNameError\u001b[0m: name 'df_train' is not defined"
     ]
    }
   ],
   "source": [
    "#Building the DL model and running it here\n",
    "#df_train[\"SalePrice\"] = np.log1p(df_train[\"SalePrice\"]) #normalizing the data\n",
    "\n",
    "#Taking out some extreme outliers\n",
    "df_train.drop(df_train[(df_train['OverallQual']<5) & (df_train['SalePrice']>200000)].index, inplace=True)\n",
    "df_train.drop(df_train[(df_train['GrLivArea']>4500) & (df_train['SalePrice']<300000)].index, inplace=True)\n",
    "\n",
    "X = df_train.drop('SalePrice',axis=1).values\n",
    "y = df_train['SalePrice'].values \n",
    "X_train, X_test, y_train, y_test = train_test_split(X, y, test_size=0.2, random_state=42)\n",
    "\n",
    "scaler = MinMaxScaler()\n",
    "X_train = scaler.fit_transform(X_train)\n",
    "X_test = scaler.transform(X_test)\n",
    "df_test = scaler.transform(df_test.drop('SalePrice',axis=1))\n",
    "\n",
    "\n",
    "model = Sequential()\n",
    "\n",
    "model.add(Dense(253,activation='relu'))\n",
    "model.add(Dropout(0.3))\n",
    "\n",
    "model.add(Dense(253,activation='relu'))\n",
    "model.add(Dropout(0.3))\n",
    "\n",
    "model.add(Dense(253,activation='relu'))\n",
    "model.add(Dropout(0.3))\n",
    "\n",
    "model.add(Dense(253,activation='relu'))\n",
    "model.add(Dropout(0.3))\n",
    "\n",
    "model.add(Dense(253,activation='relu'))\n",
    "model.add(Dropout(0.3))\n",
    "\n",
    "model.add(Dense(1))\n",
    "\n",
    "model.compile(loss='mse',optimizer='adam')\n",
    "\n",
    "from tensorflow.keras.callbacks import EarlyStopping\n",
    "early_stop = EarlyStopping(monitor='val_loss',mode='min',verbose=1,patience=50)\n",
    "model.fit(x=X_train,y=y_train,epochs=300,validation_data=(X_test,y_test),batch_size=75,\n",
    "     callbacks=[early_stop])\n",
    "\n",
    "plt.figure(figsize=(12,8))\n",
    "\n",
    "losses = pd.DataFrame(model.history.history)\n",
    "losses.plot()\n",
    "\n",
    "predictions = model.predict(X_test)\n",
    "print(predictions)\n",
    "\n",
    "print(mean_absolute_error(y_test,predictions))\n",
    "print(100* (mean_absolute_error(y_test,predictions) / df_train['SalePrice'].mean()))\n"
   ]
  },
  {
   "cell_type": "code",
   "execution_count": 220,
   "metadata": {},
   "outputs": [
    {
     "name": "stdout",
     "output_type": "stream",
     "text": [
      "[[112217.26 ]\n",
      " [157743.73 ]\n",
      " [176528.36 ]\n",
      " ...\n",
      " [161688.53 ]\n",
      " [116510.555]\n",
      " [203345.2  ]]\n"
     ]
    }
   ],
   "source": [
    "final_predictions = model.predict(df_test)\n",
    "print(final_predictions)"
   ]
  },
  {
   "cell_type": "code",
   "execution_count": 213,
   "metadata": {},
   "outputs": [
    {
     "name": "stdout",
     "output_type": "stream",
     "text": [
      "     Id      SalePrice\n",
      "0  1461  115183.664062\n",
      "1  1462  159584.296875\n",
      "2  1463  178797.078125\n",
      "3  1464  199425.390625\n",
      "4  1465  174963.500000\n"
     ]
    }
   ],
   "source": [
    "# adding the ID column back\n",
    "temp_df = pd.read_csv('./test.csv')\n",
    "temp_df['SalePrice'] = final_predictions\n",
    "final_df = temp_df[['Id','SalePrice']]\n",
    "print(final_df.head())"
   ]
  },
  {
   "cell_type": "code",
   "execution_count": 214,
   "metadata": {},
   "outputs": [
    {
     "data": {
      "text/html": [
       "<div>\n",
       "<style scoped>\n",
       "    .dataframe tbody tr th:only-of-type {\n",
       "        vertical-align: middle;\n",
       "    }\n",
       "\n",
       "    .dataframe tbody tr th {\n",
       "        vertical-align: top;\n",
       "    }\n",
       "\n",
       "    .dataframe thead th {\n",
       "        text-align: right;\n",
       "    }\n",
       "</style>\n",
       "<table border=\"1\" class=\"dataframe\">\n",
       "  <thead>\n",
       "    <tr style=\"text-align: right;\">\n",
       "      <th></th>\n",
       "      <th>Id</th>\n",
       "      <th>SalePrice</th>\n",
       "    </tr>\n",
       "  </thead>\n",
       "  <tbody>\n",
       "    <tr>\n",
       "      <th>0</th>\n",
       "      <td>1461</td>\n",
       "      <td>115183.664062</td>\n",
       "    </tr>\n",
       "    <tr>\n",
       "      <th>1</th>\n",
       "      <td>1462</td>\n",
       "      <td>159584.296875</td>\n",
       "    </tr>\n",
       "    <tr>\n",
       "      <th>2</th>\n",
       "      <td>1463</td>\n",
       "      <td>178797.078125</td>\n",
       "    </tr>\n",
       "    <tr>\n",
       "      <th>3</th>\n",
       "      <td>1464</td>\n",
       "      <td>199425.390625</td>\n",
       "    </tr>\n",
       "    <tr>\n",
       "      <th>4</th>\n",
       "      <td>1465</td>\n",
       "      <td>174963.500000</td>\n",
       "    </tr>\n",
       "  </tbody>\n",
       "</table>\n",
       "</div>"
      ],
      "text/plain": [
       "     Id      SalePrice\n",
       "0  1461  115183.664062\n",
       "1  1462  159584.296875\n",
       "2  1463  178797.078125\n",
       "3  1464  199425.390625\n",
       "4  1465  174963.500000"
      ]
     },
     "execution_count": 214,
     "metadata": {},
     "output_type": "execute_result"
    }
   ],
   "source": [
    "def fillInAnyNulls(x):\n",
    "    if (x == 0):\n",
    "        return final_df['SalePrice'].mean()\n",
    "    else: \n",
    "        return x\n",
    "\n",
    "final_df.apply(lambda x: fillInAnyNulls(x['SalePrice']),axis=1) \n",
    "final_df.to_csv(\"final_submission3.csv\", index=False)\n",
    "final_df.head()"
   ]
  },
  {
   "cell_type": "code",
   "execution_count": 215,
   "metadata": {},
   "outputs": [
    {
     "data": {
      "text/plain": [
       "174868.6875"
      ]
     },
     "execution_count": 215,
     "metadata": {},
     "output_type": "execute_result"
    }
   ],
   "source": [
    "final_df['SalePrice'].mean()"
   ]
  },
  {
   "cell_type": "code",
   "execution_count": null,
   "metadata": {},
   "outputs": [
    {
     "name": "stdout",
     "output_type": "stream",
     "text": [
      "[0]\tvalidation_0-rmse:194912.09375\n",
      "Will train until validation_0-rmse hasn't improved in 15 rounds.\n",
      "[1]\tvalidation_0-rmse:193074.31250\n",
      "[2]\tvalidation_0-rmse:191260.04688\n",
      "[3]\tvalidation_0-rmse:189459.45312\n",
      "[4]\tvalidation_0-rmse:187697.93750\n"
     ]
    },
    {
     "name": "stderr",
     "output_type": "stream",
     "text": [
      "C:\\Users\\towns\\anaconda3\\lib\\site-packages\\pandas\\core\\frame.py:3997: SettingWithCopyWarning: \n",
      "A value is trying to be set on a copy of a slice from a DataFrame\n",
      "\n",
      "See the caveats in the documentation: https://pandas.pydata.org/pandas-docs/stable/user_guide/indexing.html#returning-a-view-versus-a-copy\n",
      "  errors=errors,\n"
     ]
    },
    {
     "name": "stdout",
     "output_type": "stream",
     "text": [
      "[5]\tvalidation_0-rmse:185935.40625\n",
      "[6]\tvalidation_0-rmse:184188.89062\n",
      "[7]\tvalidation_0-rmse:182477.93750\n",
      "[8]\tvalidation_0-rmse:180769.20312\n",
      "[9]\tvalidation_0-rmse:179089.21875\n",
      "[10]\tvalidation_0-rmse:177426.34375\n",
      "[11]\tvalidation_0-rmse:175768.90625\n",
      "[12]\tvalidation_0-rmse:174137.92188\n",
      "[13]\tvalidation_0-rmse:172515.64062\n",
      "[14]\tvalidation_0-rmse:170903.62500\n",
      "[15]\tvalidation_0-rmse:169308.85938\n",
      "[16]\tvalidation_0-rmse:167729.34375\n",
      "[17]\tvalidation_0-rmse:166167.39062\n",
      "[18]\tvalidation_0-rmse:164625.03125\n",
      "[19]\tvalidation_0-rmse:163112.37500\n",
      "[20]\tvalidation_0-rmse:161602.51562\n",
      "[21]\tvalidation_0-rmse:160103.39062\n",
      "[22]\tvalidation_0-rmse:158608.15625\n",
      "[23]\tvalidation_0-rmse:157150.92188\n",
      "[24]\tvalidation_0-rmse:155681.93750\n",
      "[25]\tvalidation_0-rmse:154271.65625\n",
      "[26]\tvalidation_0-rmse:152860.89062\n",
      "[27]\tvalidation_0-rmse:151490.95312\n",
      "[28]\tvalidation_0-rmse:150127.46875\n",
      "[29]\tvalidation_0-rmse:148754.29688\n",
      "[30]\tvalidation_0-rmse:147398.82812\n",
      "[31]\tvalidation_0-rmse:146066.65625\n",
      "[32]\tvalidation_0-rmse:144736.48438\n",
      "[33]\tvalidation_0-rmse:143398.92188\n",
      "[34]\tvalidation_0-rmse:142106.01562\n",
      "[35]\tvalidation_0-rmse:140820.73438\n",
      "[36]\tvalidation_0-rmse:139603.34375\n",
      "[37]\tvalidation_0-rmse:138335.79688\n",
      "[38]\tvalidation_0-rmse:137068.26562\n",
      "[39]\tvalidation_0-rmse:135837.03125\n",
      "[40]\tvalidation_0-rmse:134626.04688\n",
      "[41]\tvalidation_0-rmse:133421.06250\n",
      "[42]\tvalidation_0-rmse:132227.39062\n",
      "[43]\tvalidation_0-rmse:131033.55469\n",
      "[44]\tvalidation_0-rmse:129897.94531\n",
      "[45]\tvalidation_0-rmse:128736.28906\n",
      "[46]\tvalidation_0-rmse:127563.69531\n",
      "[47]\tvalidation_0-rmse:126425.63281\n",
      "[48]\tvalidation_0-rmse:125304.22656\n",
      "[49]\tvalidation_0-rmse:124220.87500\n",
      "[50]\tvalidation_0-rmse:123116.89844\n",
      "[51]\tvalidation_0-rmse:122011.30469\n",
      "[52]\tvalidation_0-rmse:120929.37500\n",
      "[53]\tvalidation_0-rmse:119860.35156\n",
      "[54]\tvalidation_0-rmse:118782.71875\n",
      "[55]\tvalidation_0-rmse:117743.28906\n",
      "[56]\tvalidation_0-rmse:116687.41406\n",
      "[57]\tvalidation_0-rmse:115640.17188\n",
      "[58]\tvalidation_0-rmse:114645.68750\n",
      "[59]\tvalidation_0-rmse:113612.64844\n",
      "[60]\tvalidation_0-rmse:112614.57031\n",
      "[61]\tvalidation_0-rmse:111630.83594\n",
      "[62]\tvalidation_0-rmse:110647.11719\n",
      "[63]\tvalidation_0-rmse:109665.89844\n",
      "[64]\tvalidation_0-rmse:108700.24219\n",
      "[65]\tvalidation_0-rmse:107752.92969\n",
      "[66]\tvalidation_0-rmse:106794.40625\n",
      "[67]\tvalidation_0-rmse:105852.35156\n",
      "[68]\tvalidation_0-rmse:104983.60156\n",
      "[69]\tvalidation_0-rmse:104061.89062\n",
      "[70]\tvalidation_0-rmse:103164.95312\n",
      "[71]\tvalidation_0-rmse:102291.78906\n",
      "[72]\tvalidation_0-rmse:101399.24219\n",
      "[73]\tvalidation_0-rmse:100510.78125\n",
      "[74]\tvalidation_0-rmse:99666.96094\n",
      "[75]\tvalidation_0-rmse:98812.11719\n",
      "[76]\tvalidation_0-rmse:97965.79688\n",
      "[77]\tvalidation_0-rmse:97156.41406\n",
      "[78]\tvalidation_0-rmse:96324.50000\n",
      "[79]\tvalidation_0-rmse:95515.62500\n",
      "[80]\tvalidation_0-rmse:94702.75000\n",
      "[81]\tvalidation_0-rmse:93899.44531\n",
      "[82]\tvalidation_0-rmse:93084.69531\n",
      "[83]\tvalidation_0-rmse:92282.88281\n",
      "[84]\tvalidation_0-rmse:91520.19531\n",
      "[85]\tvalidation_0-rmse:90723.36719\n",
      "[86]\tvalidation_0-rmse:89958.03906\n",
      "[87]\tvalidation_0-rmse:89209.14062\n",
      "[88]\tvalidation_0-rmse:88445.09375\n",
      "[89]\tvalidation_0-rmse:87682.44531\n",
      "[90]\tvalidation_0-rmse:86936.72656\n",
      "[91]\tvalidation_0-rmse:86233.07812\n"
     ]
    }
   ],
   "source": [
    "from xgboost import XGBRegressor\n",
    "\n",
    "#Taking out some extreme outliers\n",
    "df_train.drop(df_train[(df_train['OverallQual']<5) & (df_train['SalePrice']>200000)].index, inplace=True)\n",
    "df_train.drop(df_train[(df_train['GrLivArea']>4500) & (df_train['SalePrice']<300000)].index, inplace=True)\n",
    "\n",
    "X = df_train.drop('SalePrice',axis=1).values\n",
    "y = df_train['SalePrice'].values \n",
    "X_train, X_test, y_train, y_test = train_test_split(X, y, test_size=0.1, random_state=42)\n",
    "\n",
    "scaler = MinMaxScaler()\n",
    "X_train = scaler.fit_transform(X_train)\n",
    "X_test = scaler.transform(X_test)\n",
    "df_test = scaler.transform(df_test.drop('SalePrice',axis=1))\n",
    "\n",
    "my_model = XGBRegressor(n_estimators=2000,learning_rate=0.01)\n",
    "my_model.fit(X_train, y_train,early_stopping_rounds=15, \n",
    "             eval_set=[(X_test, y_test)])\n",
    "\n",
    "from sklearn.metrics import mean_absolute_error\n",
    "\n",
    "predictions = my_model.predict(X_test)\n",
    "print(\"Mean Absolute Error: \" + str(mean_absolute_error(predictions, y_test)))"
   ]
  },
  {
   "cell_type": "code",
   "execution_count": 28,
   "metadata": {},
   "outputs": [
    {
     "name": "stdout",
     "output_type": "stream",
     "text": [
      "[124876.29 152203.06 180709.8  ... 165399.55 115269.84 215000.8 ]\n"
     ]
    }
   ],
   "source": [
    "final_predictions = my_model.predict(df_test)\n",
    "print(final_predictions)"
   ]
  },
  {
   "cell_type": "code",
   "execution_count": 29,
   "metadata": {},
   "outputs": [
    {
     "name": "stdout",
     "output_type": "stream",
     "text": [
      "     Id      SalePrice\n",
      "0  1461  124876.289062\n",
      "1  1462  152203.062500\n",
      "2  1463  180709.796875\n",
      "3  1464  191918.578125\n",
      "4  1465  190288.515625\n"
     ]
    },
    {
     "data": {
      "text/html": [
       "<div>\n",
       "<style scoped>\n",
       "    .dataframe tbody tr th:only-of-type {\n",
       "        vertical-align: middle;\n",
       "    }\n",
       "\n",
       "    .dataframe tbody tr th {\n",
       "        vertical-align: top;\n",
       "    }\n",
       "\n",
       "    .dataframe thead th {\n",
       "        text-align: right;\n",
       "    }\n",
       "</style>\n",
       "<table border=\"1\" class=\"dataframe\">\n",
       "  <thead>\n",
       "    <tr style=\"text-align: right;\">\n",
       "      <th></th>\n",
       "      <th>Id</th>\n",
       "      <th>SalePrice</th>\n",
       "    </tr>\n",
       "  </thead>\n",
       "  <tbody>\n",
       "    <tr>\n",
       "      <th>0</th>\n",
       "      <td>1461</td>\n",
       "      <td>124876.289062</td>\n",
       "    </tr>\n",
       "    <tr>\n",
       "      <th>1</th>\n",
       "      <td>1462</td>\n",
       "      <td>152203.062500</td>\n",
       "    </tr>\n",
       "    <tr>\n",
       "      <th>2</th>\n",
       "      <td>1463</td>\n",
       "      <td>180709.796875</td>\n",
       "    </tr>\n",
       "    <tr>\n",
       "      <th>3</th>\n",
       "      <td>1464</td>\n",
       "      <td>191918.578125</td>\n",
       "    </tr>\n",
       "    <tr>\n",
       "      <th>4</th>\n",
       "      <td>1465</td>\n",
       "      <td>190288.515625</td>\n",
       "    </tr>\n",
       "  </tbody>\n",
       "</table>\n",
       "</div>"
      ],
      "text/plain": [
       "     Id      SalePrice\n",
       "0  1461  124876.289062\n",
       "1  1462  152203.062500\n",
       "2  1463  180709.796875\n",
       "3  1464  191918.578125\n",
       "4  1465  190288.515625"
      ]
     },
     "execution_count": 29,
     "metadata": {},
     "output_type": "execute_result"
    }
   ],
   "source": [
    "# adding the ID column back\n",
    "temp_df = pd.read_csv('./test.csv')\n",
    "temp_df['SalePrice'] = final_predictions\n",
    "final_df = temp_df[['Id','SalePrice']]\n",
    "print(final_df.head())\n",
    "final_df.to_csv(\"final_submission5.csv\", index=False)\n",
    "final_df.head()"
   ]
  },
  {
   "cell_type": "markdown",
   "metadata": {},
   "source": [
    "## This is a linear regression model that was used just to test"
   ]
  },
  {
   "cell_type": "code",
   "execution_count": 55,
   "metadata": {},
   "outputs": [
    {
     "name": "stdout",
     "output_type": "stream",
     "text": [
      "RMSE is: \n",
      " 1.1270769837786428e+28\n"
     ]
    }
   ],
   "source": [
    "#Linear Regression model\n",
    "lr = linear_model.LinearRegression()\n",
    "model = lr.fit(X_train, y_train)\n",
    "predictions = model.predict(X_test)\n",
    "\n",
    "print ('RMSE is: \\n', mean_squared_error(y_test, predictions))"
   ]
  },
  {
   "cell_type": "markdown",
   "metadata": {},
   "source": [
    "# EDA: Below will be the data discovery phase and the actual tranformations will be put in the readAndCleanData method above"
   ]
  },
  {
   "cell_type": "code",
   "execution_count": 7,
   "metadata": {},
   "outputs": [
    {
     "data": {
      "text/plain": [
       "20     536\n",
       "60     299\n",
       "50     144\n",
       "120     87\n",
       "30      69\n",
       "160     63\n",
       "70      60\n",
       "80      58\n",
       "90      52\n",
       "190     30\n",
       "85      20\n",
       "75      16\n",
       "45      12\n",
       "180     10\n",
       "40       4\n",
       "Name: MSSubClass, dtype: int64"
      ]
     },
     "execution_count": 7,
     "metadata": {},
     "output_type": "execute_result"
    }
   ],
   "source": [
    "df['MSSubClass'].value_counts()\n"
   ]
  },
  {
   "cell_type": "code",
   "execution_count": 16,
   "metadata": {},
   "outputs": [
    {
     "data": {
      "text/plain": [
       "<matplotlib.axes._subplots.AxesSubplot at 0x204da376508>"
      ]
     },
     "execution_count": 16,
     "metadata": {},
     "output_type": "execute_result"
    },
    {
     "data": {
      "image/png": "[encoded data removed]",
      "text/plain": [
       "<Figure size 864x576 with 1 Axes>"
      ]
     },
     "metadata": {
      "needs_background": "light"
     },
     "output_type": "display_data"
    }
   ],
   "source": [
    "plt.figure(figsize=(12,8))\n",
    "df.corr()['SalePrice'].sort_values().drop('SalePrice').plot(kind='bar')"
   ]
  },
  {
   "cell_type": "markdown",
   "metadata": {},
   "source": [
    "## Finding: I can drop the ID column as it serves no purpose"
   ]
  },
  {
   "cell_type": "code",
   "execution_count": 18,
   "metadata": {},
   "outputs": [
    {
     "data": {
      "text/plain": [
       "1460    1\n",
       "1456    1\n",
       "1455    1\n",
       "1454    1\n",
       "1453    1\n",
       "       ..\n",
       "21      1\n",
       "89      1\n",
       "22      1\n",
       "43      1\n",
       "1       1\n",
       "Name: Id, Length: 1460, dtype: int64"
      ]
     },
     "execution_count": 18,
     "metadata": {},
     "output_type": "execute_result"
    }
   ],
   "source": [
    "df['Id'].value_counts().sort_values() "
   ]
  },
  {
   "cell_type": "markdown",
   "metadata": {},
   "source": [
    "## Finding: The MSSubClass variables need to all be turned into dummy variables"
   ]
  },
  {
   "cell_type": "code",
   "execution_count": 41,
   "metadata": {},
   "outputs": [
    {
     "data": {
      "text/plain": [
       "array([ 60,  20,  70,  50, 190,  45,  90, 120,  30,  85,  80, 160,  75,\n",
       "       180,  40], dtype=int64)"
      ]
     },
     "execution_count": 41,
     "metadata": {},
     "output_type": "execute_result"
    }
   ],
   "source": [
    "df['MSSubClass'].unique()"
   ]
  },
  {
   "cell_type": "code",
   "execution_count": 42,
   "metadata": {},
   "outputs": [],
   "source": [
    "dummies= pd.get_dummies(df['MSSubClass'],drop_first=True)\n",
    "df = pd.concat([df.drop('MSSubClass',axis=1),dummies],axis=1)"
   ]
  },
  {
   "cell_type": "code",
   "execution_count": 43,
   "metadata": {},
   "outputs": [
    {
     "data": {
      "text/plain": [
       "Index([     'MSZoning',   'LotFrontage',       'LotArea',        'Street',\n",
       "               'Alley',      'LotShape',   'LandContour',     'Utilities',\n",
       "           'LotConfig',     'LandSlope',  'Neighborhood',    'Condition1',\n",
       "          'Condition2',      'BldgType',    'HouseStyle',   'OverallQual',\n",
       "         'OverallCond',     'YearBuilt',  'YearRemodAdd',     'RoofStyle',\n",
       "            'RoofMatl',   'Exterior1st',   'Exterior2nd',    'MasVnrType',\n",
       "          'MasVnrArea',     'ExterQual',     'ExterCond',    'Foundation',\n",
       "            'BsmtQual',      'BsmtCond',  'BsmtExposure',  'BsmtFinType1',\n",
       "          'BsmtFinSF1',  'BsmtFinType2',    'BsmtFinSF2',     'BsmtUnfSF',\n",
       "         'TotalBsmtSF',       'Heating',     'HeatingQC',    'CentralAir',\n",
       "          'Electrical',      '1stFlrSF',      '2ndFlrSF',  'LowQualFinSF',\n",
       "           'GrLivArea',  'BsmtFullBath',  'BsmtHalfBath',      'FullBath',\n",
       "            'HalfBath',  'BedroomAbvGr',  'KitchenAbvGr',   'KitchenQual',\n",
       "        'TotRmsAbvGrd',    'Functional',    'Fireplaces',   'FireplaceQu',\n",
       "          'GarageType',   'GarageYrBlt',  'GarageFinish',    'GarageCars',\n",
       "          'GarageArea',    'GarageQual',    'GarageCond',    'PavedDrive',\n",
       "          'WoodDeckSF',   'OpenPorchSF', 'EnclosedPorch',     '3SsnPorch',\n",
       "         'ScreenPorch',      'PoolArea',        'PoolQC',         'Fence',\n",
       "         'MiscFeature',       'MiscVal',        'MoSold',        'YrSold',\n",
       "            'SaleType', 'SaleCondition',     'SalePrice',              30,\n",
       "                    40,              45,              50,              60,\n",
       "                    70,              75,              80,              85,\n",
       "                    90,             120,             160,             180,\n",
       "                   190],\n",
       "      dtype='object')"
      ]
     },
     "execution_count": 43,
     "metadata": {},
     "output_type": "execute_result"
    }
   ],
   "source": [
    "df.columns"
   ]
  },
  {
   "cell_type": "code",
   "execution_count": 52,
   "metadata": {},
   "outputs": [
    {
     "data": {
      "text/html": [
       "<div>\n",
       "<style scoped>\n",
       "    .dataframe tbody tr th:only-of-type {\n",
       "        vertical-align: middle;\n",
       "    }\n",
       "\n",
       "    .dataframe tbody tr th {\n",
       "        vertical-align: top;\n",
       "    }\n",
       "\n",
       "    .dataframe thead th {\n",
       "        text-align: right;\n",
       "    }\n",
       "</style>\n",
       "<table border=\"1\" class=\"dataframe\">\n",
       "  <thead>\n",
       "    <tr style=\"text-align: right;\">\n",
       "      <th></th>\n",
       "      <th>30</th>\n",
       "      <th>40</th>\n",
       "      <th>50</th>\n",
       "      <th>45</th>\n",
       "      <th>50</th>\n",
       "      <th>60</th>\n",
       "      <th>70</th>\n",
       "      <th>75</th>\n",
       "      <th>80</th>\n",
       "    </tr>\n",
       "  </thead>\n",
       "  <tbody>\n",
       "    <tr>\n",
       "      <th>0</th>\n",
       "      <td>0</td>\n",
       "      <td>0</td>\n",
       "      <td>0</td>\n",
       "      <td>0</td>\n",
       "      <td>0</td>\n",
       "      <td>1</td>\n",
       "      <td>0</td>\n",
       "      <td>0</td>\n",
       "      <td>0</td>\n",
       "    </tr>\n",
       "    <tr>\n",
       "      <th>1</th>\n",
       "      <td>0</td>\n",
       "      <td>0</td>\n",
       "      <td>0</td>\n",
       "      <td>0</td>\n",
       "      <td>0</td>\n",
       "      <td>0</td>\n",
       "      <td>0</td>\n",
       "      <td>0</td>\n",
       "      <td>0</td>\n",
       "    </tr>\n",
       "    <tr>\n",
       "      <th>2</th>\n",
       "      <td>0</td>\n",
       "      <td>0</td>\n",
       "      <td>0</td>\n",
       "      <td>0</td>\n",
       "      <td>0</td>\n",
       "      <td>1</td>\n",
       "      <td>0</td>\n",
       "      <td>0</td>\n",
       "      <td>0</td>\n",
       "    </tr>\n",
       "    <tr>\n",
       "      <th>3</th>\n",
       "      <td>0</td>\n",
       "      <td>0</td>\n",
       "      <td>0</td>\n",
       "      <td>0</td>\n",
       "      <td>0</td>\n",
       "      <td>0</td>\n",
       "      <td>1</td>\n",
       "      <td>0</td>\n",
       "      <td>0</td>\n",
       "    </tr>\n",
       "    <tr>\n",
       "      <th>4</th>\n",
       "      <td>0</td>\n",
       "      <td>0</td>\n",
       "      <td>0</td>\n",
       "      <td>0</td>\n",
       "      <td>0</td>\n",
       "      <td>1</td>\n",
       "      <td>0</td>\n",
       "      <td>0</td>\n",
       "      <td>0</td>\n",
       "    </tr>\n",
       "    <tr>\n",
       "      <th>...</th>\n",
       "      <td>...</td>\n",
       "      <td>...</td>\n",
       "      <td>...</td>\n",
       "      <td>...</td>\n",
       "      <td>...</td>\n",
       "      <td>...</td>\n",
       "      <td>...</td>\n",
       "      <td>...</td>\n",
       "      <td>...</td>\n",
       "    </tr>\n",
       "    <tr>\n",
       "      <th>1455</th>\n",
       "      <td>0</td>\n",
       "      <td>0</td>\n",
       "      <td>0</td>\n",
       "      <td>0</td>\n",
       "      <td>0</td>\n",
       "      <td>1</td>\n",
       "      <td>0</td>\n",
       "      <td>0</td>\n",
       "      <td>0</td>\n",
       "    </tr>\n",
       "    <tr>\n",
       "      <th>1456</th>\n",
       "      <td>0</td>\n",
       "      <td>0</td>\n",
       "      <td>0</td>\n",
       "      <td>0</td>\n",
       "      <td>0</td>\n",
       "      <td>0</td>\n",
       "      <td>0</td>\n",
       "      <td>0</td>\n",
       "      <td>0</td>\n",
       "    </tr>\n",
       "    <tr>\n",
       "      <th>1457</th>\n",
       "      <td>0</td>\n",
       "      <td>0</td>\n",
       "      <td>0</td>\n",
       "      <td>0</td>\n",
       "      <td>0</td>\n",
       "      <td>0</td>\n",
       "      <td>1</td>\n",
       "      <td>0</td>\n",
       "      <td>0</td>\n",
       "    </tr>\n",
       "    <tr>\n",
       "      <th>1458</th>\n",
       "      <td>0</td>\n",
       "      <td>0</td>\n",
       "      <td>0</td>\n",
       "      <td>0</td>\n",
       "      <td>0</td>\n",
       "      <td>0</td>\n",
       "      <td>0</td>\n",
       "      <td>0</td>\n",
       "      <td>0</td>\n",
       "    </tr>\n",
       "    <tr>\n",
       "      <th>1459</th>\n",
       "      <td>0</td>\n",
       "      <td>0</td>\n",
       "      <td>0</td>\n",
       "      <td>0</td>\n",
       "      <td>0</td>\n",
       "      <td>0</td>\n",
       "      <td>0</td>\n",
       "      <td>0</td>\n",
       "      <td>0</td>\n",
       "    </tr>\n",
       "  </tbody>\n",
       "</table>\n",
       "<p>1460 rows × 9 columns</p>\n",
       "</div>"
      ],
      "text/plain": [
       "      30  40  50  45  50  60  70  75  80\n",
       "0      0   0   0   0   0   1   0   0   0\n",
       "1      0   0   0   0   0   0   0   0   0\n",
       "2      0   0   0   0   0   1   0   0   0\n",
       "3      0   0   0   0   0   0   1   0   0\n",
       "4      0   0   0   0   0   1   0   0   0\n",
       "...   ..  ..  ..  ..  ..  ..  ..  ..  ..\n",
       "1455   0   0   0   0   0   1   0   0   0\n",
       "1456   0   0   0   0   0   0   0   0   0\n",
       "1457   0   0   0   0   0   0   1   0   0\n",
       "1458   0   0   0   0   0   0   0   0   0\n",
       "1459   0   0   0   0   0   0   0   0   0\n",
       "\n",
       "[1460 rows x 9 columns]"
      ]
     },
     "execution_count": 52,
     "metadata": {},
     "output_type": "execute_result"
    }
   ],
   "source": [
    "df[[30,40,50,45,50,60,70,75,80]]"
   ]
  },
  {
   "cell_type": "markdown",
   "metadata": {},
   "source": [
    "## Finding: The MSZoning variable needs to be made a dummy as well"
   ]
  },
  {
   "cell_type": "code",
   "execution_count": 53,
   "metadata": {},
   "outputs": [],
   "source": [
    "dummies= pd.get_dummies(df['MSZoning'],drop_first=True)\n",
    "df = pd.concat([df.drop('MSZoning',axis=1),dummies],axis=1)"
   ]
  },
  {
   "cell_type": "code",
   "execution_count": 54,
   "metadata": {},
   "outputs": [
    {
     "data": {
      "text/plain": [
       "Index([  'LotFrontage',       'LotArea',        'Street',         'Alley',\n",
       "            'LotShape',   'LandContour',     'Utilities',     'LotConfig',\n",
       "           'LandSlope',  'Neighborhood',    'Condition1',    'Condition2',\n",
       "            'BldgType',    'HouseStyle',   'OverallQual',   'OverallCond',\n",
       "           'YearBuilt',  'YearRemodAdd',     'RoofStyle',      'RoofMatl',\n",
       "         'Exterior1st',   'Exterior2nd',    'MasVnrType',    'MasVnrArea',\n",
       "           'ExterQual',     'ExterCond',    'Foundation',      'BsmtQual',\n",
       "            'BsmtCond',  'BsmtExposure',  'BsmtFinType1',    'BsmtFinSF1',\n",
       "        'BsmtFinType2',    'BsmtFinSF2',     'BsmtUnfSF',   'TotalBsmtSF',\n",
       "             'Heating',     'HeatingQC',    'CentralAir',    'Electrical',\n",
       "            '1stFlrSF',      '2ndFlrSF',  'LowQualFinSF',     'GrLivArea',\n",
       "        'BsmtFullBath',  'BsmtHalfBath',      'FullBath',      'HalfBath',\n",
       "        'BedroomAbvGr',  'KitchenAbvGr',   'KitchenQual',  'TotRmsAbvGrd',\n",
       "          'Functional',    'Fireplaces',   'FireplaceQu',    'GarageType',\n",
       "         'GarageYrBlt',  'GarageFinish',    'GarageCars',    'GarageArea',\n",
       "          'GarageQual',    'GarageCond',    'PavedDrive',    'WoodDeckSF',\n",
       "         'OpenPorchSF', 'EnclosedPorch',     '3SsnPorch',   'ScreenPorch',\n",
       "            'PoolArea',        'PoolQC',         'Fence',   'MiscFeature',\n",
       "             'MiscVal',        'MoSold',        'YrSold',      'SaleType',\n",
       "       'SaleCondition',     'SalePrice',              30,              40,\n",
       "                    45,              50,              60,              70,\n",
       "                    75,              80,              85,              90,\n",
       "                   120,             160,             180,             190,\n",
       "                  'FV',            'RH',            'RL',            'RM'],\n",
       "      dtype='object')"
      ]
     },
     "execution_count": 54,
     "metadata": {},
     "output_type": "execute_result"
    }
   ],
   "source": [
    "df.columns"
   ]
  },
  {
   "cell_type": "code",
   "execution_count": 79,
   "metadata": {},
   "outputs": [
    {
     "data": {
      "text/plain": [
       "<matplotlib.axes._subplots.AxesSubplot at 0x204dd024748>"
      ]
     },
     "execution_count": 79,
     "metadata": {},
     "output_type": "execute_result"
    },
    {
     "data": {
      "image/png": "[encoded data removed]",
      "text/plain": [
       "<Figure size 864x432 with 1 Axes>"
      ]
     },
     "metadata": {
      "needs_background": "light"
     },
     "output_type": "display_data"
    }
   ],
   "source": [
    "plt.figure(figsize=(12,6))\n",
    "plt.xlim(0,200)\n",
    "sns.distplot(df['LotFrontage'],kde=False,bins=40)"
   ]
  },
  {
   "cell_type": "code",
   "execution_count": 152,
   "metadata": {},
   "outputs": [
    {
     "name": "stdout",
     "output_type": "stream",
     "text": [
      "(1460,)\n",
      "1460\n"
     ]
    }
   ],
   "source": [
    "print(df['LotFrontage'].shape)\n",
    "print(df['LotFrontage'].isnull().count())"
   ]
  },
  {
   "cell_type": "markdown",
   "metadata": {},
   "source": [
    "## Finding: The LotFrontage has no nulls and is a good variable so I am leaving it"
   ]
  },
  {
   "cell_type": "code",
   "execution_count": 82,
   "metadata": {},
   "outputs": [
    {
     "data": {
      "text/plain": [
       "<matplotlib.axes._subplots.AxesSubplot at 0x204ded942c8>"
      ]
     },
     "execution_count": 82,
     "metadata": {},
     "output_type": "execute_result"
    },
    {
     "data": {
      "image/png": "[encoded data removed]",
      "text/plain": [
       "<Figure size 864x432 with 1 Axes>"
      ]
     },
     "metadata": {
      "needs_background": "light"
     },
     "output_type": "display_data"
    }
   ],
   "source": [
    "plt.figure(figsize=(12,6))\n",
    "plt.xlim(0,50000)\n",
    "sns.distplot(df['LotArea'],kde=False,bins=40)"
   ]
  },
  {
   "cell_type": "code",
   "execution_count": 83,
   "metadata": {},
   "outputs": [
    {
     "name": "stdout",
     "output_type": "stream",
     "text": [
      "(1460,)\n",
      "1460\n"
     ]
    }
   ],
   "source": [
    "print(df['LotFrontage'].shape)\n",
    "print(df['LotFrontage'].isnull().count())"
   ]
  },
  {
   "cell_type": "markdown",
   "metadata": {},
   "source": [
    "## Finding: The LotArea has no nulls and is a good variable so I am leaving it"
   ]
  },
  {
   "cell_type": "code",
   "execution_count": 85,
   "metadata": {},
   "outputs": [
    {
     "data": {
      "text/plain": [
       "<matplotlib.axes._subplots.AxesSubplot at 0x204df72ba88>"
      ]
     },
     "execution_count": 85,
     "metadata": {},
     "output_type": "execute_result"
    },
    {
     "data": {
      "image/png": "[encoded data removed]",
      "text/plain": [
       "<Figure size 432x288 with 1 Axes>"
      ]
     },
     "metadata": {
      "needs_background": "light"
     },
     "output_type": "display_data"
    }
   ],
   "source": [
    "sns.boxplot(data=df, x='Street', y='SalePrice')"
   ]
  },
  {
   "cell_type": "code",
   "execution_count": 86,
   "metadata": {},
   "outputs": [
    {
     "name": "stdout",
     "output_type": "stream",
     "text": [
      "(1460,)\n",
      "1460\n"
     ]
    }
   ],
   "source": [
    "print(df['LotFrontage'].shape)\n",
    "print(df['LotFrontage'].isnull().count())"
   ]
  },
  {
   "cell_type": "markdown",
   "metadata": {},
   "source": [
    "## Finding: The Street variable only has two options so they need to be made into Dummies"
   ]
  },
  {
   "cell_type": "code",
   "execution_count": 87,
   "metadata": {},
   "outputs": [],
   "source": [
    "dummies= pd.get_dummies(df['Street'],drop_first=True)\n",
    "df = pd.concat([df.drop('Street',axis=1),dummies],axis=1)"
   ]
  },
  {
   "cell_type": "code",
   "execution_count": 88,
   "metadata": {},
   "outputs": [
    {
     "data": {
      "text/plain": [
       "Index([  'LotFrontage',       'LotArea',         'Alley',      'LotShape',\n",
       "         'LandContour',     'Utilities',     'LotConfig',     'LandSlope',\n",
       "        'Neighborhood',    'Condition1',    'Condition2',      'BldgType',\n",
       "          'HouseStyle',   'OverallQual',   'OverallCond',     'YearBuilt',\n",
       "        'YearRemodAdd',     'RoofStyle',      'RoofMatl',   'Exterior1st',\n",
       "         'Exterior2nd',    'MasVnrType',    'MasVnrArea',     'ExterQual',\n",
       "           'ExterCond',    'Foundation',      'BsmtQual',      'BsmtCond',\n",
       "        'BsmtExposure',  'BsmtFinType1',    'BsmtFinSF1',  'BsmtFinType2',\n",
       "          'BsmtFinSF2',     'BsmtUnfSF',   'TotalBsmtSF',       'Heating',\n",
       "           'HeatingQC',    'CentralAir',    'Electrical',      '1stFlrSF',\n",
       "            '2ndFlrSF',  'LowQualFinSF',     'GrLivArea',  'BsmtFullBath',\n",
       "        'BsmtHalfBath',      'FullBath',      'HalfBath',  'BedroomAbvGr',\n",
       "        'KitchenAbvGr',   'KitchenQual',  'TotRmsAbvGrd',    'Functional',\n",
       "          'Fireplaces',   'FireplaceQu',    'GarageType',   'GarageYrBlt',\n",
       "        'GarageFinish',    'GarageCars',    'GarageArea',    'GarageQual',\n",
       "          'GarageCond',    'PavedDrive',    'WoodDeckSF',   'OpenPorchSF',\n",
       "       'EnclosedPorch',     '3SsnPorch',   'ScreenPorch',      'PoolArea',\n",
       "              'PoolQC',         'Fence',   'MiscFeature',       'MiscVal',\n",
       "              'MoSold',        'YrSold',      'SaleType', 'SaleCondition',\n",
       "           'SalePrice',              30,              40,              45,\n",
       "                    50,              60,              70,              75,\n",
       "                    80,              85,              90,             120,\n",
       "                   160,             180,             190,            'FV',\n",
       "                  'RH',            'RL',            'RM',          'Pave'],\n",
       "      dtype='object')"
      ]
     },
     "execution_count": 88,
     "metadata": {},
     "output_type": "execute_result"
    }
   ],
   "source": [
    "df.columns"
   ]
  },
  {
   "cell_type": "code",
   "execution_count": null,
   "metadata": {},
   "outputs": [],
   "source": []
  },
  {
   "cell_type": "markdown",
   "metadata": {},
   "source": [
    "## For the Alley variable I need to change the column names because they overlap with the street variables and then I am going to make them Dummy variables"
   ]
  },
  {
   "cell_type": "code",
   "execution_count": 103,
   "metadata": {},
   "outputs": [
    {
     "data": {
      "text/plain": [
       "AlleyNA      1369\n",
       "AlleyGrvl      50\n",
       "AlleyPave      41\n",
       "Name: Alley, dtype: int64"
      ]
     },
     "execution_count": 103,
     "metadata": {},
     "output_type": "execute_result"
    }
   ],
   "source": [
    "df['Alley'].value_counts()"
   ]
  },
  {
   "cell_type": "code",
   "execution_count": 102,
   "metadata": {},
   "outputs": [],
   "source": [
    "df['Alley'] =df['Alley'].replace('Grvl','AlleyGrvl')\n",
    "df['Alley'] =df['Alley'].replace('Pave','AlleyPave')\n",
    "df['Alley'] =df['Alley'].replace(np.nan,'AlleyNA',regex=True)"
   ]
  },
  {
   "cell_type": "code",
   "execution_count": 104,
   "metadata": {},
   "outputs": [],
   "source": [
    "dummies= pd.get_dummies(df['Alley'],drop_first=True)\n",
    "df = pd.concat([df.drop('Alley',axis=1),dummies],axis=1)"
   ]
  },
  {
   "cell_type": "code",
   "execution_count": 43,
   "metadata": {},
   "outputs": [
    {
     "data": {
      "text/plain": [
       "Index([    'LotFrontage',         'LotArea',       'LotConfig',\n",
       "             'LandSlope',    'Neighborhood',      'Condition1',\n",
       "            'Condition2',        'BldgType',      'HouseStyle',\n",
       "           'OverallQual',     'OverallCond',       'YearBuilt',\n",
       "          'YearRemodAdd',       'RoofStyle',        'RoofMatl',\n",
       "           'Exterior1st',     'Exterior2nd',      'MasVnrType',\n",
       "            'MasVnrArea',       'ExterQual',       'ExterCond',\n",
       "            'Foundation',        'BsmtQual',        'BsmtCond',\n",
       "          'BsmtExposure',    'BsmtFinType1',      'BsmtFinSF1',\n",
       "          'BsmtFinType2',      'BsmtFinSF2',       'BsmtUnfSF',\n",
       "           'TotalBsmtSF',         'Heating',       'HeatingQC',\n",
       "            'CentralAir',      'Electrical',        '1stFlrSF',\n",
       "              '2ndFlrSF',    'LowQualFinSF',       'GrLivArea',\n",
       "          'BsmtFullBath',    'BsmtHalfBath',        'FullBath',\n",
       "              'HalfBath',    'BedroomAbvGr',    'KitchenAbvGr',\n",
       "           'KitchenQual',    'TotRmsAbvGrd',      'Functional',\n",
       "            'Fireplaces',     'FireplaceQu',      'GarageType',\n",
       "           'GarageYrBlt',    'GarageFinish',      'GarageCars',\n",
       "            'GarageArea',      'GarageQual',      'GarageCond',\n",
       "            'PavedDrive',      'WoodDeckSF',     'OpenPorchSF',\n",
       "         'EnclosedPorch',       '3SsnPorch',     'ScreenPorch',\n",
       "              'PoolArea',          'PoolQC',           'Fence',\n",
       "           'MiscFeature',         'MiscVal',          'MoSold',\n",
       "                'YrSold',        'SaleType',   'SaleCondition',\n",
       "             'SalePrice',                30,                40,\n",
       "                      45,                50,                60,\n",
       "                      70,                75,                80,\n",
       "                      85,                90,               120,\n",
       "                     160,               180,               190,\n",
       "           'MSZoning_FV',     'MSZoning_RH',     'MSZoning_RL',\n",
       "           'MSZoning_RM',     'Street_Pave',        'Alley_NA',\n",
       "            'Alley_Pave',    'LotShape_IR2',    'LotShape_IR3',\n",
       "          'LotShape_Reg', 'LandContour_HLS', 'LandContour_Low',\n",
       "       'LandContour_Lvl'],\n",
       "      dtype='object')"
      ]
     },
     "execution_count": 43,
     "metadata": {},
     "output_type": "execute_result"
    }
   ],
   "source": [
    "df.columns"
   ]
  },
  {
   "cell_type": "code",
   "execution_count": null,
   "metadata": {},
   "outputs": [],
   "source": []
  },
  {
   "cell_type": "code",
   "execution_count": 27,
   "metadata": {},
   "outputs": [
    {
     "name": "stdout",
     "output_type": "stream",
     "text": [
      "Reg    925\n",
      "IR1    484\n",
      "IR2     41\n",
      "IR3     10\n",
      "Name: LotShape, dtype: int64\n",
      "(1460,)\n",
      "1460\n"
     ]
    }
   ],
   "source": [
    "#Lot Shape\n",
    "print(df['LotShape'].value_counts())\n",
    "print(df['LotShape'].shape)\n",
    "print(df['LotShape'].isnull().count())"
   ]
  },
  {
   "cell_type": "markdown",
   "metadata": {},
   "source": [
    "## The LotShape variable needs to be made into a dummy variable for the four categories and there are no nulls so no transformation needs to be made"
   ]
  },
  {
   "cell_type": "code",
   "execution_count": 28,
   "metadata": {},
   "outputs": [
    {
     "name": "stdout",
     "output_type": "stream",
     "text": [
      "      IR2  IR3  Reg\n",
      "0       0    0    1\n",
      "1       0    0    1\n",
      "2       0    0    0\n",
      "3       0    0    0\n",
      "4       0    0    0\n",
      "...   ...  ...  ...\n",
      "1455    0    0    1\n",
      "1456    0    0    1\n",
      "1457    0    0    1\n",
      "1458    0    0    1\n",
      "1459    0    0    1\n",
      "\n",
      "[1460 rows x 3 columns]\n"
     ]
    }
   ],
   "source": [
    "dummies= pd.get_dummies(df['LotShape'],drop_first=True)\n",
    "print(dummies)\n",
    "df = pd.concat([df.drop('LotShape',axis=1),dummies],axis=1)"
   ]
  },
  {
   "cell_type": "code",
   "execution_count": 31,
   "metadata": {},
   "outputs": [
    {
     "name": "stdout",
     "output_type": "stream",
     "text": [
      "Lvl    1311\n",
      "Bnk      63\n",
      "HLS      50\n",
      "Low      36\n",
      "Name: LandContour, dtype: int64\n",
      "(1460,)\n",
      "1460\n"
     ]
    }
   ],
   "source": [
    "#LandCountour\n",
    "print(df['LandContour'].value_counts())\n",
    "print(df['LandContour'].shape)\n",
    "print(df['LandContour'].isnull().count())"
   ]
  },
  {
   "cell_type": "markdown",
   "metadata": {},
   "source": [
    "## The LandContour variable needs to be made into a dummy variable for the four categories and there are no nulls so no transformation needs to be made"
   ]
  },
  {
   "cell_type": "code",
   "execution_count": 33,
   "metadata": {},
   "outputs": [
    {
     "name": "stdout",
     "output_type": "stream",
     "text": [
      "      HLS  Low  Lvl\n",
      "0       0    0    1\n",
      "1       0    0    1\n",
      "2       0    0    1\n",
      "3       0    0    1\n",
      "4       0    0    1\n",
      "...   ...  ...  ...\n",
      "1455    0    0    1\n",
      "1456    0    0    1\n",
      "1457    0    0    1\n",
      "1458    0    0    1\n",
      "1459    0    0    1\n",
      "\n",
      "[1460 rows x 3 columns]\n"
     ]
    }
   ],
   "source": [
    "dummies= pd.get_dummies(df['LandContour'],drop_first=True)\n",
    "print(dummies)\n",
    "df = pd.concat([df.drop('LandContour',axis=1),dummies],axis=1)"
   ]
  },
  {
   "cell_type": "code",
   "execution_count": 39,
   "metadata": {},
   "outputs": [
    {
     "name": "stdout",
     "output_type": "stream",
     "text": [
      "AllPub    1459\n",
      "NoSeWa       1\n",
      "Name: Utilities, dtype: int64\n",
      "(1460,)\n",
      "1460\n"
     ]
    }
   ],
   "source": [
    "#Utilities\n",
    "print(df['Utilities'].value_counts())\n",
    "print(df['Utilities'].shape)\n",
    "print(df['Utilities'].isnull().count())"
   ]
  },
  {
   "cell_type": "markdown",
   "metadata": {},
   "source": [
    "### Utilities is not neccessary as the data here shows every location has 1 variable except one, so going to drop this one"
   ]
  },
  {
   "cell_type": "code",
   "execution_count": 45,
   "metadata": {},
   "outputs": [
    {
     "name": "stdout",
     "output_type": "stream",
     "text": [
      "Inside     1052\n",
      "Corner      263\n",
      "CulDSac      94\n",
      "FR2          47\n",
      "FR3           4\n",
      "Name: LotConfig, dtype: int64\n",
      "(1460,)\n",
      "1460\n"
     ]
    }
   ],
   "source": [
    "#LotConfig\n",
    "print(df['LotConfig'].value_counts())\n",
    "print(df['LotConfig'].shape)\n",
    "print(df['LotConfig'].isnull().count())"
   ]
  },
  {
   "cell_type": "markdown",
   "metadata": {},
   "source": [
    "### The LotConfig variable needs to be made into a dummy variable for the four categories and there are no nulls so no transformation needs to be made"
   ]
  },
  {
   "cell_type": "code",
   "execution_count": 51,
   "metadata": {},
   "outputs": [
    {
     "name": "stdout",
     "output_type": "stream",
     "text": [
      "Gtl    1382\n",
      "Mod      65\n",
      "Sev      13\n",
      "Name: LandSlope, dtype: int64\n",
      "(1460,)\n",
      "1460\n"
     ]
    }
   ],
   "source": [
    "#LandSlope\n",
    "print(df['LandSlope'].value_counts())\n",
    "print(df['LandSlope'].shape)\n",
    "print(df['LandSlope'].isnull().count())\n"
   ]
  },
  {
   "cell_type": "markdown",
   "metadata": {},
   "source": [
    "### The LandSlope variable needs to be made into a dummy variable for the four categories and there are no nulls so no transformation needs to be made"
   ]
  },
  {
   "cell_type": "code",
   "execution_count": 55,
   "metadata": {},
   "outputs": [
    {
     "name": "stdout",
     "output_type": "stream",
     "text": [
      "NAmes      225\n",
      "CollgCr    150\n",
      "OldTown    113\n",
      "Edwards    100\n",
      "Somerst     86\n",
      "Gilbert     79\n",
      "NridgHt     77\n",
      "Sawyer      74\n",
      "NWAmes      73\n",
      "SawyerW     59\n",
      "BrkSide     58\n",
      "Crawfor     51\n",
      "Mitchel     49\n",
      "NoRidge     41\n",
      "Timber      38\n",
      "IDOTRR      37\n",
      "ClearCr     28\n",
      "StoneBr     25\n",
      "SWISU       25\n",
      "MeadowV     17\n",
      "Blmngtn     17\n",
      "BrDale      16\n",
      "Veenker     11\n",
      "NPkVill      9\n",
      "Blueste      2\n",
      "Name: Neighborhood, dtype: int64\n",
      "(1460,)\n",
      "1460\n"
     ]
    }
   ],
   "source": [
    "#Neighborhood\n",
    "print(df['Neighborhood'].value_counts())\n",
    "print(df['Neighborhood'].shape)\n",
    "print(df['Neighborhood'].isnull().count())\n",
    "#The Neighborhood variable needs to be made into a dummy variable for the four categories and there are no nulls so no transformation needs to be made"
   ]
  },
  {
   "cell_type": "code",
   "execution_count": 64,
   "metadata": {},
   "outputs": [
    {
     "name": "stdout",
     "output_type": "stream",
     "text": [
      "Norm      1260\n",
      "Feedr       81\n",
      "Artery      48\n",
      "RRAn        26\n",
      "PosN        19\n",
      "RRAe        11\n",
      "PosA         8\n",
      "RRNn         5\n",
      "RRNe         2\n",
      "Name: Condition1, dtype: int64\n",
      "(1460,)\n",
      "1460\n"
     ]
    }
   ],
   "source": [
    "print(df['Condition1'].value_counts())\n",
    "print(df['Condition1'].shape)\n",
    "print(df['Condition1'].isnull().count())"
   ]
  },
  {
   "cell_type": "code",
   "execution_count": 63,
   "metadata": {},
   "outputs": [
    {
     "data": {
      "text/plain": [
       "0      Norm\n",
       "1     Feedr\n",
       "2      Norm\n",
       "3      Norm\n",
       "4      Norm\n",
       "5      Norm\n",
       "6      Norm\n",
       "7      PosN\n",
       "8    Artery\n",
       "9    Artery\n",
       "Name: Condition1, dtype: object"
      ]
     },
     "execution_count": 63,
     "metadata": {},
     "output_type": "execute_result"
    }
   ],
   "source": [
    "df['Condition1'].head(10)"
   ]
  },
  {
   "cell_type": "code",
   "execution_count": 66,
   "metadata": {},
   "outputs": [],
   "source": [
    "#both the conditions can be turned into dummy variables, even though they are structured \n",
    "#oddly they can still be used by just turning these values into columns"
   ]
  },
  {
   "cell_type": "code",
   "execution_count": 71,
   "metadata": {},
   "outputs": [
    {
     "name": "stdout",
     "output_type": "stream",
     "text": [
      "1Fam      1220\n",
      "TwnhsE     114\n",
      "Duplex      52\n",
      "Twnhs       43\n",
      "2fmCon      31\n",
      "Name: BldgType, dtype: int64\n",
      "(1460,)\n",
      "1460\n"
     ]
    }
   ],
   "source": [
    "print(df['BldgType'].value_counts())\n",
    "print(df['BldgType'].shape)\n",
    "print(df['BldgType'].isnull().count())\n",
    "#dummies"
   ]
  },
  {
   "cell_type": "code",
   "execution_count": 74,
   "metadata": {},
   "outputs": [
    {
     "name": "stdout",
     "output_type": "stream",
     "text": [
      "1Story    726\n",
      "2Story    445\n",
      "1.5Fin    154\n",
      "SLvl       65\n",
      "SFoyer     37\n",
      "1.5Unf     14\n",
      "2.5Unf     11\n",
      "2.5Fin      8\n",
      "Name: HouseStyle, dtype: int64\n",
      "(1460,)\n",
      "1460\n"
     ]
    }
   ],
   "source": [
    "print(df['HouseStyle'].value_counts())\n",
    "print(df['HouseStyle'].shape)\n",
    "print(df['HouseStyle'].isnull().count())\n",
    "#dummies"
   ]
  },
  {
   "cell_type": "code",
   "execution_count": 80,
   "metadata": {},
   "outputs": [
    {
     "data": {
      "text/plain": [
       "<matplotlib.axes._subplots.AxesSubplot at 0x11ea4898048>"
      ]
     },
     "execution_count": 80,
     "metadata": {},
     "output_type": "execute_result"
    },
    {
     "data": {
      "image/png": "[encoded data removed]",
      "text/plain": [
       "<Figure size 432x288 with 1 Axes>"
      ]
     },
     "metadata": {
      "needs_background": "light"
     },
     "output_type": "display_data"
    }
   ],
   "source": [
    "# overall quality\n",
    "sns.distplot(df['OverallQual'])"
   ]
  },
  {
   "cell_type": "code",
   "execution_count": 81,
   "metadata": {},
   "outputs": [
    {
     "data": {
      "text/plain": [
       "1460"
      ]
     },
     "execution_count": 81,
     "metadata": {},
     "output_type": "execute_result"
    }
   ],
   "source": [
    "df['OverallQual'].isnull().count()"
   ]
  },
  {
   "cell_type": "code",
   "execution_count": 84,
   "metadata": {},
   "outputs": [
    {
     "name": "stdout",
     "output_type": "stream",
     "text": [
      "1460\n"
     ]
    },
    {
     "data": {
      "image/png": "[encoded data removed]",
      "text/plain": [
       "<Figure size 432x288 with 1 Axes>"
      ]
     },
     "metadata": {
      "needs_background": "light"
     },
     "output_type": "display_data"
    }
   ],
   "source": [
    "sns.distplot(df['OverallCond'])\n"
   ]
  },
  {
   "cell_type": "code",
   "execution_count": 85,
   "metadata": {},
   "outputs": [
    {
     "name": "stdout",
     "output_type": "stream",
     "text": [
      "1460\n"
     ]
    }
   ],
   "source": [
    "print(df['OverallCond'].isnull().count())"
   ]
  },
  {
   "cell_type": "code",
   "execution_count": 86,
   "metadata": {},
   "outputs": [],
   "source": [
    "#OverallQual and OverallCond are both good as numerical variables and no nulls so they will be left"
   ]
  },
  {
   "cell_type": "code",
   "execution_count": 210,
   "metadata": {},
   "outputs": [
    {
     "data": {
      "text/plain": [
       "0"
      ]
     },
     "execution_count": 210,
     "metadata": {},
     "output_type": "execute_result"
    }
   ],
   "source": [
    "df['YearBuilt'].isnull().sum()"
   ]
  },
  {
   "cell_type": "code",
   "execution_count": 102,
   "metadata": {},
   "outputs": [
    {
     "data": {
      "text/plain": [
       "<seaborn.axisgrid.JointGrid at 0x11ea9123448>"
      ]
     },
     "execution_count": 102,
     "metadata": {},
     "output_type": "execute_result"
    },
    {
     "data": {
      "image/png": "[encoded data removed]",
      "text/plain": [
       "<Figure size 432x432 with 3 Axes>"
      ]
     },
     "metadata": {
      "needs_background": "light"
     },
     "output_type": "display_data"
    }
   ],
   "source": [
    "sns.jointplot('YearBuilt','SalePrice',data=df,kind='reg')"
   ]
  },
  {
   "cell_type": "code",
   "execution_count": 107,
   "metadata": {},
   "outputs": [],
   "source": [
    "## YearBuilt is good"
   ]
  },
  {
   "cell_type": "code",
   "execution_count": 111,
   "metadata": {},
   "outputs": [
    {
     "name": "stdout",
     "output_type": "stream",
     "text": [
      "1950    178\n",
      "2006     97\n",
      "2007     76\n",
      "2005     73\n",
      "2004     62\n",
      "       ... \n",
      "2010      6\n",
      "1983      5\n",
      "1952      5\n",
      "1986      5\n",
      "1951      4\n",
      "Name: YearRemodAdd, Length: 61, dtype: int64\n",
      "(1460,)\n",
      "1460\n"
     ]
    }
   ],
   "source": [
    "#YearRemodAdd is good as well\n",
    "print(df['YearRemodAdd'].value_counts())\n",
    "print(df['YearRemodAdd'].shape)\n",
    "print(df['YearRemodAdd'].isnull().count())\n"
   ]
  },
  {
   "cell_type": "code",
   "execution_count": 112,
   "metadata": {},
   "outputs": [
    {
     "name": "stdout",
     "output_type": "stream",
     "text": [
      "Gable      1141\n",
      "Hip         286\n",
      "Flat         13\n",
      "Gambrel      11\n",
      "Mansard       7\n",
      "Shed          2\n",
      "Name: RoofStyle, dtype: int64\n",
      "(1460,)\n",
      "1460\n"
     ]
    }
   ],
   "source": [
    "#RoofStyle needs to be dummies\n",
    "print(df['RoofStyle'].value_counts())\n",
    "print(df['RoofStyle'].shape)\n",
    "print(df['RoofStyle'].isnull().count())"
   ]
  },
  {
   "cell_type": "code",
   "execution_count": 113,
   "metadata": {},
   "outputs": [
    {
     "name": "stdout",
     "output_type": "stream",
     "text": [
      "CompShg    1434\n",
      "Tar&Grv      11\n",
      "WdShngl       6\n",
      "WdShake       5\n",
      "Membran       1\n",
      "Metal         1\n",
      "Roll          1\n",
      "ClyTile       1\n",
      "Name: RoofMatl, dtype: int64\n",
      "(1460,)\n",
      "1460\n"
     ]
    }
   ],
   "source": [
    "#RoofMatl needs to be dummies\n",
    "print(df['RoofMatl'].value_counts())\n",
    "print(df['RoofMatl'].shape)\n",
    "print(df['RoofMatl'].isnull().count())"
   ]
  },
  {
   "cell_type": "code",
   "execution_count": 116,
   "metadata": {},
   "outputs": [
    {
     "name": "stdout",
     "output_type": "stream",
     "text": [
      "VinylSd    515\n",
      "HdBoard    222\n",
      "MetalSd    220\n",
      "Wd Sdng    206\n",
      "Plywood    108\n",
      "CemntBd     61\n",
      "BrkFace     50\n",
      "WdShing     26\n",
      "Stucco      25\n",
      "AsbShng     20\n",
      "BrkComm      2\n",
      "Stone        2\n",
      "ImStucc      1\n",
      "AsphShn      1\n",
      "CBlock       1\n",
      "Name: Exterior1st, dtype: int64\n",
      "(1460,)\n",
      "1460\n"
     ]
    }
   ],
   "source": [
    "#Exterior1 needs to be dummies\n",
    "print(df['Exterior1st'].value_counts())\n",
    "print(df['Exterior1st'].shape)\n",
    "print(df['Exterior1st'].isnull().count())"
   ]
  },
  {
   "cell_type": "code",
   "execution_count": 117,
   "metadata": {},
   "outputs": [
    {
     "name": "stdout",
     "output_type": "stream",
     "text": [
      "VinylSd    504\n",
      "MetalSd    214\n",
      "HdBoard    207\n",
      "Wd Sdng    197\n",
      "Plywood    142\n",
      "CmentBd     60\n",
      "Wd Shng     38\n",
      "Stucco      26\n",
      "BrkFace     25\n",
      "AsbShng     20\n",
      "ImStucc     10\n",
      "Brk Cmn      7\n",
      "Stone        5\n",
      "AsphShn      3\n",
      "CBlock       1\n",
      "Other        1\n",
      "Name: Exterior2nd, dtype: int64\n",
      "(1460,)\n",
      "1460\n"
     ]
    }
   ],
   "source": [
    "#Exterior2 needs to be dummies\n",
    "print(df['Exterior2nd'].value_counts())\n",
    "print(df['Exterior2nd'].shape)\n",
    "print(df['Exterior2nd'].isnull().count())"
   ]
  },
  {
   "cell_type": "code",
   "execution_count": 118,
   "metadata": {},
   "outputs": [
    {
     "data": {
      "text/html": [
       "<div>\n",
       "<style scoped>\n",
       "    .dataframe tbody tr th:only-of-type {\n",
       "        vertical-align: middle;\n",
       "    }\n",
       "\n",
       "    .dataframe tbody tr th {\n",
       "        vertical-align: top;\n",
       "    }\n",
       "\n",
       "    .dataframe thead th {\n",
       "        text-align: right;\n",
       "    }\n",
       "</style>\n",
       "<table border=\"1\" class=\"dataframe\">\n",
       "  <thead>\n",
       "    <tr style=\"text-align: right;\">\n",
       "      <th></th>\n",
       "      <th>Exterior1st</th>\n",
       "      <th>Exterior2nd</th>\n",
       "    </tr>\n",
       "  </thead>\n",
       "  <tbody>\n",
       "    <tr>\n",
       "      <th>0</th>\n",
       "      <td>VinylSd</td>\n",
       "      <td>VinylSd</td>\n",
       "    </tr>\n",
       "    <tr>\n",
       "      <th>1</th>\n",
       "      <td>MetalSd</td>\n",
       "      <td>MetalSd</td>\n",
       "    </tr>\n",
       "    <tr>\n",
       "      <th>2</th>\n",
       "      <td>VinylSd</td>\n",
       "      <td>VinylSd</td>\n",
       "    </tr>\n",
       "    <tr>\n",
       "      <th>3</th>\n",
       "      <td>Wd Sdng</td>\n",
       "      <td>Wd Shng</td>\n",
       "    </tr>\n",
       "    <tr>\n",
       "      <th>4</th>\n",
       "      <td>VinylSd</td>\n",
       "      <td>VinylSd</td>\n",
       "    </tr>\n",
       "    <tr>\n",
       "      <th>5</th>\n",
       "      <td>VinylSd</td>\n",
       "      <td>VinylSd</td>\n",
       "    </tr>\n",
       "    <tr>\n",
       "      <th>6</th>\n",
       "      <td>VinylSd</td>\n",
       "      <td>VinylSd</td>\n",
       "    </tr>\n",
       "    <tr>\n",
       "      <th>7</th>\n",
       "      <td>HdBoard</td>\n",
       "      <td>HdBoard</td>\n",
       "    </tr>\n",
       "    <tr>\n",
       "      <th>8</th>\n",
       "      <td>BrkFace</td>\n",
       "      <td>Wd Shng</td>\n",
       "    </tr>\n",
       "    <tr>\n",
       "      <th>9</th>\n",
       "      <td>MetalSd</td>\n",
       "      <td>MetalSd</td>\n",
       "    </tr>\n",
       "    <tr>\n",
       "      <th>10</th>\n",
       "      <td>HdBoard</td>\n",
       "      <td>HdBoard</td>\n",
       "    </tr>\n",
       "    <tr>\n",
       "      <th>11</th>\n",
       "      <td>WdShing</td>\n",
       "      <td>Wd Shng</td>\n",
       "    </tr>\n",
       "    <tr>\n",
       "      <th>12</th>\n",
       "      <td>HdBoard</td>\n",
       "      <td>Plywood</td>\n",
       "    </tr>\n",
       "    <tr>\n",
       "      <th>13</th>\n",
       "      <td>VinylSd</td>\n",
       "      <td>VinylSd</td>\n",
       "    </tr>\n",
       "    <tr>\n",
       "      <th>14</th>\n",
       "      <td>MetalSd</td>\n",
       "      <td>MetalSd</td>\n",
       "    </tr>\n",
       "  </tbody>\n",
       "</table>\n",
       "</div>"
      ],
      "text/plain": [
       "   Exterior1st Exterior2nd\n",
       "0      VinylSd     VinylSd\n",
       "1      MetalSd     MetalSd\n",
       "2      VinylSd     VinylSd\n",
       "3      Wd Sdng     Wd Shng\n",
       "4      VinylSd     VinylSd\n",
       "5      VinylSd     VinylSd\n",
       "6      VinylSd     VinylSd\n",
       "7      HdBoard     HdBoard\n",
       "8      BrkFace     Wd Shng\n",
       "9      MetalSd     MetalSd\n",
       "10     HdBoard     HdBoard\n",
       "11     WdShing     Wd Shng\n",
       "12     HdBoard     Plywood\n",
       "13     VinylSd     VinylSd\n",
       "14     MetalSd     MetalSd"
      ]
     },
     "execution_count": 118,
     "metadata": {},
     "output_type": "execute_result"
    }
   ],
   "source": [
    "df[['Exterior1st','Exterior2nd']].head(15)"
   ]
  },
  {
   "cell_type": "code",
   "execution_count": 121,
   "metadata": {},
   "outputs": [
    {
     "name": "stdout",
     "output_type": "stream",
     "text": [
      "None       864\n",
      "BrkFace    445\n",
      "Stone      128\n",
      "BrkCmn      15\n",
      "Name: MasVnrType, dtype: int64\n",
      "(1460,)\n",
      "1460\n"
     ]
    }
   ],
   "source": [
    "#MasVnrType needs to be dummies\n",
    "print(df['MasVnrType'].value_counts())\n",
    "print(df['MasVnrType'].shape)\n",
    "print(df['MasVnrType'].isnull().count())"
   ]
  },
  {
   "cell_type": "code",
   "execution_count": 178,
   "metadata": {},
   "outputs": [
    {
     "name": "stdout",
     "output_type": "stream",
     "text": [
      "0.0      861\n",
      "72.0       8\n",
      "180.0      8\n",
      "108.0      8\n",
      "120.0      7\n",
      "        ... \n",
      "651.0      1\n",
      "337.0      1\n",
      "415.0      1\n",
      "293.0      1\n",
      "621.0      1\n",
      "Name: MasVnrArea, Length: 327, dtype: int64\n",
      "(1460,)\n",
      "8\n",
      "234    NaN\n",
      "529    NaN\n",
      "650    NaN\n",
      "936    NaN\n",
      "973    NaN\n",
      "977    NaN\n",
      "1243   NaN\n",
      "1278   NaN\n",
      "Name: MasVnrArea, dtype: float64\n"
     ]
    }
   ],
   "source": [
    "print(df['MasVnrArea'].value_counts())\n",
    "print(df['MasVnrArea'].shape)\n",
    "print(df['MasVnrArea'].isnull().sum())\n",
    "print(df.loc[df['MasVnrArea'].isnull() ==True]['MasVnrArea'])"
   ]
  },
  {
   "cell_type": "code",
   "execution_count": 180,
   "metadata": {},
   "outputs": [],
   "source": [
    "# I am going to get rid of these 8 null values by just replacing them with 0's since this is likely the case\n",
    "df['MasVnrArea'] =df['MasVnrArea'].replace(np.nan,0,regex=True)"
   ]
  },
  {
   "cell_type": "code",
   "execution_count": 181,
   "metadata": {},
   "outputs": [
    {
     "name": "stdout",
     "output_type": "stream",
     "text": [
      "0\n",
      "Series([], Name: MasVnrArea, dtype: float64)\n"
     ]
    }
   ],
   "source": [
    "print(df['MasVnrArea'].isnull().sum())\n",
    "print(df.loc[df['MasVnrArea'].isnull() ==True]['MasVnrArea'])\n",
    "#They are all gone now"
   ]
  },
  {
   "cell_type": "code",
   "execution_count": 130,
   "metadata": {},
   "outputs": [
    {
     "data": {
      "text/plain": [
       "<matplotlib.axes._subplots.AxesSubplot at 0x11eaa7c2e48>"
      ]
     },
     "execution_count": 130,
     "metadata": {},
     "output_type": "execute_result"
    },
    {
     "data": {
      "image/png": "[encoded data removed]",
      "text/plain": [
       "<Figure size 432x288 with 1 Axes>"
      ]
     },
     "metadata": {
      "needs_background": "light"
     },
     "output_type": "display_data"
    }
   ],
   "source": [
    "plt.xlim(0,500)\n",
    "sns.distplot(df['MasVnrArea'])\n",
    "#This column can be left alone"
   ]
  },
  {
   "cell_type": "code",
   "execution_count": 131,
   "metadata": {},
   "outputs": [
    {
     "name": "stdout",
     "output_type": "stream",
     "text": [
      "TA    906\n",
      "Gd    488\n",
      "Ex     52\n",
      "Fa     14\n",
      "Name: ExterQual, dtype: int64\n",
      "(1460,)\n",
      "1460\n"
     ]
    }
   ],
   "source": [
    "print(df['ExterQual'].value_counts())\n",
    "print(df['ExterQual'].shape)\n",
    "print(df['ExterQual'].isnull().count())"
   ]
  },
  {
   "cell_type": "code",
   "execution_count": 132,
   "metadata": {},
   "outputs": [
    {
     "name": "stdout",
     "output_type": "stream",
     "text": [
      "TA    1282\n",
      "Gd     146\n",
      "Fa      28\n",
      "Ex       3\n",
      "Po       1\n",
      "Name: ExterCond, dtype: int64\n",
      "(1460,)\n",
      "1460\n"
     ]
    }
   ],
   "source": [
    "print(df['ExterCond'].value_counts())\n",
    "print(df['ExterCond'].shape)\n",
    "print(df['ExterCond'].isnull().count())"
   ]
  },
  {
   "cell_type": "code",
   "execution_count": 140,
   "metadata": {},
   "outputs": [
    {
     "ename": "KeyError",
     "evalue": "'Foundation'",
     "output_type": "error",
     "traceback": [
      "\u001b[1;31m---------------------------------------------------------------------------\u001b[0m",
      "\u001b[1;31mKeyError\u001b[0m                                  Traceback (most recent call last)",
      "\u001b[1;32m~\\anaconda3\\lib\\site-packages\\pandas\\core\\indexes\\base.py\u001b[0m in \u001b[0;36mget_loc\u001b[1;34m(self, key, method, tolerance)\u001b[0m\n\u001b[0;32m   2645\u001b[0m             \u001b[1;32mtry\u001b[0m\u001b[1;33m:\u001b[0m\u001b[1;33m\u001b[0m\u001b[1;33m\u001b[0m\u001b[0m\n\u001b[1;32m-> 2646\u001b[1;33m                 \u001b[1;32mreturn\u001b[0m \u001b[0mself\u001b[0m\u001b[1;33m.\u001b[0m\u001b[0m_engine\u001b[0m\u001b[1;33m.\u001b[0m\u001b[0mget_loc\u001b[0m\u001b[1;33m(\u001b[0m\u001b[0mkey\u001b[0m\u001b[1;33m)\u001b[0m\u001b[1;33m\u001b[0m\u001b[1;33m\u001b[0m\u001b[0m\n\u001b[0m\u001b[0;32m   2647\u001b[0m             \u001b[1;32mexcept\u001b[0m \u001b[0mKeyError\u001b[0m\u001b[1;33m:\u001b[0m\u001b[1;33m\u001b[0m\u001b[1;33m\u001b[0m\u001b[0m\n",
      "\u001b[1;32mpandas\\_libs\\index.pyx\u001b[0m in \u001b[0;36mpandas._libs.index.IndexEngine.get_loc\u001b[1;34m()\u001b[0m\n",
      "\u001b[1;32mpandas\\_libs\\index.pyx\u001b[0m in \u001b[0;36mpandas._libs.index.IndexEngine.get_loc\u001b[1;34m()\u001b[0m\n",
      "\u001b[1;32mpandas\\_libs\\hashtable_class_helper.pxi\u001b[0m in \u001b[0;36mpandas._libs.hashtable.PyObjectHashTable.get_item\u001b[1;34m()\u001b[0m\n",
      "\u001b[1;32mpandas\\_libs\\hashtable_class_helper.pxi\u001b[0m in \u001b[0;36mpandas._libs.hashtable.PyObjectHashTable.get_item\u001b[1;34m()\u001b[0m\n",
      "\u001b[1;31mKeyError\u001b[0m: 'Foundation'",
      "\nDuring handling of the above exception, another exception occurred:\n",
      "\u001b[1;31mKeyError\u001b[0m                                  Traceback (most recent call last)",
      "\u001b[1;32m<ipython-input-140-d081fa5c2926>\u001b[0m in \u001b[0;36m<module>\u001b[1;34m\u001b[0m\n\u001b[1;32m----> 1\u001b[1;33m \u001b[0mprint\u001b[0m\u001b[1;33m(\u001b[0m\u001b[0mdf\u001b[0m\u001b[1;33m[\u001b[0m\u001b[1;34m'Foundation'\u001b[0m\u001b[1;33m]\u001b[0m\u001b[1;33m.\u001b[0m\u001b[0mshape\u001b[0m\u001b[1;33m)\u001b[0m\u001b[1;33m\u001b[0m\u001b[1;33m\u001b[0m\u001b[0m\n\u001b[0m\u001b[0;32m      2\u001b[0m \u001b[0mprint\u001b[0m\u001b[1;33m(\u001b[0m\u001b[0mdf\u001b[0m\u001b[1;33m[\u001b[0m\u001b[1;34m'Foundation'\u001b[0m\u001b[1;33m]\u001b[0m\u001b[1;33m.\u001b[0m\u001b[0misnull\u001b[0m\u001b[1;33m(\u001b[0m\u001b[1;33m)\u001b[0m\u001b[1;33m.\u001b[0m\u001b[0mcount\u001b[0m\u001b[1;33m(\u001b[0m\u001b[1;33m)\u001b[0m\u001b[1;33m)\u001b[0m\u001b[1;33m\u001b[0m\u001b[1;33m\u001b[0m\u001b[0m\n\u001b[0;32m      3\u001b[0m \u001b[0mprint\u001b[0m\u001b[1;33m(\u001b[0m\u001b[0mdf\u001b[0m\u001b[1;33m[\u001b[0m\u001b[1;34m'BsmtQual'\u001b[0m\u001b[1;33m]\u001b[0m\u001b[1;33m.\u001b[0m\u001b[0mshape\u001b[0m\u001b[1;33m)\u001b[0m\u001b[1;33m\u001b[0m\u001b[1;33m\u001b[0m\u001b[0m\n\u001b[0;32m      4\u001b[0m \u001b[0mprint\u001b[0m\u001b[1;33m(\u001b[0m\u001b[0mdf\u001b[0m\u001b[1;33m[\u001b[0m\u001b[1;34m'BsmtQual'\u001b[0m\u001b[1;33m]\u001b[0m\u001b[1;33m.\u001b[0m\u001b[0misnull\u001b[0m\u001b[1;33m(\u001b[0m\u001b[1;33m)\u001b[0m\u001b[1;33m.\u001b[0m\u001b[0mcount\u001b[0m\u001b[1;33m(\u001b[0m\u001b[1;33m)\u001b[0m\u001b[1;33m)\u001b[0m\u001b[1;33m\u001b[0m\u001b[1;33m\u001b[0m\u001b[0m\n\u001b[0;32m      5\u001b[0m \u001b[0mprint\u001b[0m\u001b[1;33m(\u001b[0m\u001b[0mdf\u001b[0m\u001b[1;33m[\u001b[0m\u001b[1;34m'BsmtCond'\u001b[0m\u001b[1;33m]\u001b[0m\u001b[1;33m.\u001b[0m\u001b[0mshape\u001b[0m\u001b[1;33m)\u001b[0m\u001b[1;33m\u001b[0m\u001b[1;33m\u001b[0m\u001b[0m\n",
      "\u001b[1;32m~\\anaconda3\\lib\\site-packages\\pandas\\core\\frame.py\u001b[0m in \u001b[0;36m__getitem__\u001b[1;34m(self, key)\u001b[0m\n\u001b[0;32m   2798\u001b[0m             \u001b[1;32mif\u001b[0m \u001b[0mself\u001b[0m\u001b[1;33m.\u001b[0m\u001b[0mcolumns\u001b[0m\u001b[1;33m.\u001b[0m\u001b[0mnlevels\u001b[0m \u001b[1;33m>\u001b[0m \u001b[1;36m1\u001b[0m\u001b[1;33m:\u001b[0m\u001b[1;33m\u001b[0m\u001b[1;33m\u001b[0m\u001b[0m\n\u001b[0;32m   2799\u001b[0m                 \u001b[1;32mreturn\u001b[0m \u001b[0mself\u001b[0m\u001b[1;33m.\u001b[0m\u001b[0m_getitem_multilevel\u001b[0m\u001b[1;33m(\u001b[0m\u001b[0mkey\u001b[0m\u001b[1;33m)\u001b[0m\u001b[1;33m\u001b[0m\u001b[1;33m\u001b[0m\u001b[0m\n\u001b[1;32m-> 2800\u001b[1;33m             \u001b[0mindexer\u001b[0m \u001b[1;33m=\u001b[0m \u001b[0mself\u001b[0m\u001b[1;33m.\u001b[0m\u001b[0mcolumns\u001b[0m\u001b[1;33m.\u001b[0m\u001b[0mget_loc\u001b[0m\u001b[1;33m(\u001b[0m\u001b[0mkey\u001b[0m\u001b[1;33m)\u001b[0m\u001b[1;33m\u001b[0m\u001b[1;33m\u001b[0m\u001b[0m\n\u001b[0m\u001b[0;32m   2801\u001b[0m             \u001b[1;32mif\u001b[0m \u001b[0mis_integer\u001b[0m\u001b[1;33m(\u001b[0m\u001b[0mindexer\u001b[0m\u001b[1;33m)\u001b[0m\u001b[1;33m:\u001b[0m\u001b[1;33m\u001b[0m\u001b[1;33m\u001b[0m\u001b[0m\n\u001b[0;32m   2802\u001b[0m                 \u001b[0mindexer\u001b[0m \u001b[1;33m=\u001b[0m \u001b[1;33m[\u001b[0m\u001b[0mindexer\u001b[0m\u001b[1;33m]\u001b[0m\u001b[1;33m\u001b[0m\u001b[1;33m\u001b[0m\u001b[0m\n",
      "\u001b[1;32m~\\anaconda3\\lib\\site-packages\\pandas\\core\\indexes\\base.py\u001b[0m in \u001b[0;36mget_loc\u001b[1;34m(self, key, method, tolerance)\u001b[0m\n\u001b[0;32m   2646\u001b[0m                 \u001b[1;32mreturn\u001b[0m \u001b[0mself\u001b[0m\u001b[1;33m.\u001b[0m\u001b[0m_engine\u001b[0m\u001b[1;33m.\u001b[0m\u001b[0mget_loc\u001b[0m\u001b[1;33m(\u001b[0m\u001b[0mkey\u001b[0m\u001b[1;33m)\u001b[0m\u001b[1;33m\u001b[0m\u001b[1;33m\u001b[0m\u001b[0m\n\u001b[0;32m   2647\u001b[0m             \u001b[1;32mexcept\u001b[0m \u001b[0mKeyError\u001b[0m\u001b[1;33m:\u001b[0m\u001b[1;33m\u001b[0m\u001b[1;33m\u001b[0m\u001b[0m\n\u001b[1;32m-> 2648\u001b[1;33m                 \u001b[1;32mreturn\u001b[0m \u001b[0mself\u001b[0m\u001b[1;33m.\u001b[0m\u001b[0m_engine\u001b[0m\u001b[1;33m.\u001b[0m\u001b[0mget_loc\u001b[0m\u001b[1;33m(\u001b[0m\u001b[0mself\u001b[0m\u001b[1;33m.\u001b[0m\u001b[0m_maybe_cast_indexer\u001b[0m\u001b[1;33m(\u001b[0m\u001b[0mkey\u001b[0m\u001b[1;33m)\u001b[0m\u001b[1;33m)\u001b[0m\u001b[1;33m\u001b[0m\u001b[1;33m\u001b[0m\u001b[0m\n\u001b[0m\u001b[0;32m   2649\u001b[0m         \u001b[0mindexer\u001b[0m \u001b[1;33m=\u001b[0m \u001b[0mself\u001b[0m\u001b[1;33m.\u001b[0m\u001b[0mget_indexer\u001b[0m\u001b[1;33m(\u001b[0m\u001b[1;33m[\u001b[0m\u001b[0mkey\u001b[0m\u001b[1;33m]\u001b[0m\u001b[1;33m,\u001b[0m \u001b[0mmethod\u001b[0m\u001b[1;33m=\u001b[0m\u001b[0mmethod\u001b[0m\u001b[1;33m,\u001b[0m \u001b[0mtolerance\u001b[0m\u001b[1;33m=\u001b[0m\u001b[0mtolerance\u001b[0m\u001b[1;33m)\u001b[0m\u001b[1;33m\u001b[0m\u001b[1;33m\u001b[0m\u001b[0m\n\u001b[0;32m   2650\u001b[0m         \u001b[1;32mif\u001b[0m \u001b[0mindexer\u001b[0m\u001b[1;33m.\u001b[0m\u001b[0mndim\u001b[0m \u001b[1;33m>\u001b[0m \u001b[1;36m1\u001b[0m \u001b[1;32mor\u001b[0m \u001b[0mindexer\u001b[0m\u001b[1;33m.\u001b[0m\u001b[0msize\u001b[0m \u001b[1;33m>\u001b[0m \u001b[1;36m1\u001b[0m\u001b[1;33m:\u001b[0m\u001b[1;33m\u001b[0m\u001b[1;33m\u001b[0m\u001b[0m\n",
      "\u001b[1;32mpandas\\_libs\\index.pyx\u001b[0m in \u001b[0;36mpandas._libs.index.IndexEngine.get_loc\u001b[1;34m()\u001b[0m\n",
      "\u001b[1;32mpandas\\_libs\\index.pyx\u001b[0m in \u001b[0;36mpandas._libs.index.IndexEngine.get_loc\u001b[1;34m()\u001b[0m\n",
      "\u001b[1;32mpandas\\_libs\\hashtable_class_helper.pxi\u001b[0m in \u001b[0;36mpandas._libs.hashtable.PyObjectHashTable.get_item\u001b[1;34m()\u001b[0m\n",
      "\u001b[1;32mpandas\\_libs\\hashtable_class_helper.pxi\u001b[0m in \u001b[0;36mpandas._libs.hashtable.PyObjectHashTable.get_item\u001b[1;34m()\u001b[0m\n",
      "\u001b[1;31mKeyError\u001b[0m: 'Foundation'"
     ]
    }
   ],
   "source": [
    "print(df['Foundation'].shape)\n",
    "print(df['Foundation'].isnull().count())\n",
    "print(df['BsmtQual'].shape)\n",
    "print(df['BsmtQual'].isnull().count())\n",
    "print(df['BsmtCond'].shape)\n",
    "print(df['BsmtCond'].isnull().count())\n",
    "print(df['BsmtExposure'].shape)\n",
    "print(df['BsmtExposure'].isnull().count())\n",
    "print(df['BsmtFinType1'].shape)\n",
    "print(df['BsmtFinType1'].isnull().count())\n",
    "print(df['BsmtFinType2'].shape)\n",
    "print(df['BsmtFinType2'].isnull().count())"
   ]
  },
  {
   "cell_type": "code",
   "execution_count": 138,
   "metadata": {},
   "outputs": [
    {
     "name": "stdout",
     "output_type": "stream",
     "text": [
      "0       467\n",
      "24       12\n",
      "16        9\n",
      "20        5\n",
      "686       5\n",
      "       ... \n",
      "1032      1\n",
      "1022      1\n",
      "599       1\n",
      "1018      1\n",
      "1904      1\n",
      "Name: BsmtFinSF1, Length: 637, dtype: int64\n",
      "(1460,)\n",
      "1460\n"
     ]
    }
   ],
   "source": [
    "print(df['BsmtFinSF1'].value_counts())\n",
    "print(df['BsmtFinSF1'].shape)\n",
    "print(df['BsmtFinSF1'].isnull().count())"
   ]
  },
  {
   "cell_type": "code",
   "execution_count": 141,
   "metadata": {},
   "outputs": [
    {
     "name": "stdout",
     "output_type": "stream",
     "text": [
      "(1460,)\n",
      "1460\n"
     ]
    }
   ],
   "source": [
    "print(df['BsmtFinType2'].shape)\n",
    "print(df['BsmtFinType2'].isnull().count())\n"
   ]
  },
  {
   "cell_type": "code",
   "execution_count": 142,
   "metadata": {},
   "outputs": [
    {
     "name": "stdout",
     "output_type": "stream",
     "text": [
      "0       118\n",
      "728       9\n",
      "384       8\n",
      "572       7\n",
      "600       7\n",
      "       ... \n",
      "731       1\n",
      "730       1\n",
      "726       1\n",
      "725       1\n",
      "2046      1\n",
      "Name: BsmtUnfSF, Length: 780, dtype: int64\n",
      "(1460,)\n",
      "1460\n",
      "0       37\n",
      "864     35\n",
      "672     17\n",
      "912     15\n",
      "1040    14\n",
      "        ..\n",
      "1463     1\n",
      "1459     1\n",
      "1454     1\n",
      "1019     1\n",
      "2046     1\n",
      "Name: TotalBsmtSF, Length: 721, dtype: int64\n",
      "(1460,)\n",
      "1460\n"
     ]
    }
   ],
   "source": [
    "print(df['BsmtUnfSF'].value_counts())\n",
    "print(df['BsmtUnfSF'].shape)\n",
    "print(df['BsmtUnfSF'].isnull().count())\n",
    "print(df['TotalBsmtSF'].value_counts())\n",
    "print(df['TotalBsmtSF'].shape)\n",
    "print(df['TotalBsmtSF'].isnull().count())\n",
    "#These can be left alone"
   ]
  },
  {
   "cell_type": "code",
   "execution_count": null,
   "metadata": {},
   "outputs": [],
   "source": [
    "print(df['Heating'].shape)\n",
    "print(df['Heating'].isnull().count())\n",
    "print(df['HeatingQC'].shape)\n",
    "print(df['HeatingQC'].isnull().count())\n",
    "print(df['CentralAir'].shape)\n",
    "print(df['CentralAir'].isnull().count())\n",
    "print(df['Electrical'].shape)\n",
    "print(df['Electrical'].isnull().count())\n",
    "#above is dummies, below we can leave those alone\n",
    "print(df['1stFlrSF'].value_counts())\n",
    "print(df['1stFlrSF'].shape)\n",
    "print(df['1stFlrSF'].isnull().count())\n",
    "print(df['2ndFlrSF'].value_counts())\n",
    "print(df['2ndFlrSF'].shape)\n",
    "print(df['2ndFlrSF'].isnull().count())"
   ]
  },
  {
   "cell_type": "code",
   "execution_count": 149,
   "metadata": {},
   "outputs": [
    {
     "name": "stdout",
     "output_type": "stream",
     "text": [
      "0      1434\n",
      "80        3\n",
      "360       2\n",
      "528       1\n",
      "53        1\n",
      "120       1\n",
      "144       1\n",
      "156       1\n",
      "205       1\n",
      "232       1\n",
      "234       1\n",
      "371       1\n",
      "572       1\n",
      "390       1\n",
      "392       1\n",
      "397       1\n",
      "420       1\n",
      "473       1\n",
      "479       1\n",
      "481       1\n",
      "513       1\n",
      "514       1\n",
      "515       1\n",
      "384       1\n",
      "Name: LowQualFinSF, dtype: int64\n",
      "(1460,)\n",
      "1460\n",
      "864     22\n",
      "1040    14\n",
      "894     11\n",
      "848     10\n",
      "1456    10\n",
      "        ..\n",
      "3447     1\n",
      "1396     1\n",
      "1395     1\n",
      "1393     1\n",
      "2054     1\n",
      "Name: GrLivArea, Length: 861, dtype: int64\n",
      "(1460,)\n",
      "1460\n",
      "0    856\n",
      "1    588\n",
      "2     15\n",
      "3      1\n",
      "Name: BsmtFullBath, dtype: int64\n",
      "(1460,)\n",
      "1460\n",
      "0    1378\n",
      "1      80\n",
      "2       2\n",
      "Name: BsmtHalfBath, dtype: int64\n",
      "(1460,)\n",
      "1460\n"
     ]
    }
   ],
   "source": [
    "print(df['LowQualFinSF'].value_counts())\n",
    "print(df['LowQualFinSF'].shape)\n",
    "print(df['LowQualFinSF'].isnull().count())\n",
    "print(df['GrLivArea'].value_counts())\n",
    "print(df['GrLivArea'].shape)\n",
    "print(df['GrLivArea'].isnull().count())\n",
    "\n",
    "print(df['BsmtFullBath'].value_counts())\n",
    "print(df['BsmtFullBath'].shape)\n",
    "print(df['BsmtFullBath'].isnull().count())\n",
    "print(df['BsmtHalfBath'].value_counts())\n",
    "print(df['BsmtHalfBath'].shape)\n",
    "print(df['BsmtHalfBath'].isnull().count())"
   ]
  },
  {
   "cell_type": "code",
   "execution_count": 182,
   "metadata": {},
   "outputs": [
    {
     "data": {
      "text/plain": [
       "PoolQC             1453\n",
       "MiscFeature        1406\n",
       "Fence              1179\n",
       "FireplaceQu         690\n",
       "GarageType           81\n",
       "GarageQual           81\n",
       "GarageCond           81\n",
       "GarageFinish         81\n",
       "GarageYrBlt          81\n",
       "MSZoning_RH           0\n",
       "MSZoning_RL           0\n",
       "85                    0\n",
       "90                    0\n",
       "LandContour_Lvl       0\n",
       "120                   0\n",
       "dtype: int64"
      ]
     },
     "execution_count": 182,
     "metadata": {},
     "output_type": "execute_result"
    }
   ],
   "source": [
    "df.isnull().sum().sort_values(ascending=False).head(15)\n",
    "# These are the empty values I have left, i missed some of these initially becasue I was not \n",
    "#doing the correct isnull calculation"
   ]
  },
  {
   "cell_type": "code",
   "execution_count": 167,
   "metadata": {},
   "outputs": [
    {
     "data": {
      "text/plain": [
       "0      65.0\n",
       "1      80.0\n",
       "2      68.0\n",
       "3      60.0\n",
       "4      84.0\n",
       "5      85.0\n",
       "6      75.0\n",
       "7       0.0\n",
       "8      51.0\n",
       "9      50.0\n",
       "10     70.0\n",
       "11     85.0\n",
       "12      0.0\n",
       "13     91.0\n",
       "14      0.0\n",
       "15     51.0\n",
       "16      0.0\n",
       "17     72.0\n",
       "18     66.0\n",
       "19     70.0\n",
       "20    101.0\n",
       "21     57.0\n",
       "22     75.0\n",
       "23     44.0\n",
       "24      0.0\n",
       "25    110.0\n",
       "26     60.0\n",
       "27     98.0\n",
       "28     47.0\n",
       "29     60.0\n",
       "Name: LotFrontage, dtype: float64"
      ]
     },
     "execution_count": 167,
     "metadata": {},
     "output_type": "execute_result"
    }
   ],
   "source": [
    "df['LotFrontage'].head(30)"
   ]
  },
  {
   "cell_type": "code",
   "execution_count": 165,
   "metadata": {},
   "outputs": [
    {
     "data": {
      "text/plain": [
       "60.0     143\n",
       "70.0      70\n",
       "80.0      69\n",
       "50.0      57\n",
       "75.0      53\n",
       "        ... \n",
       "182.0      1\n",
       "153.0      1\n",
       "111.0      1\n",
       "150.0      1\n",
       "137.0      1\n",
       "Name: LotFrontage, Length: 110, dtype: int64"
      ]
     },
     "execution_count": 165,
     "metadata": {},
     "output_type": "execute_result"
    }
   ],
   "source": [
    "df['LotFrontage'].value_counts().sort_values(ascending=False) \n",
    "# this variable actully has some missing values so I am going to make them 0's "
   ]
  },
  {
   "cell_type": "code",
   "execution_count": 166,
   "metadata": {},
   "outputs": [],
   "source": [
    "df['LotFrontage'] =df['LotFrontage'].replace(np.nan,0,regex=True)"
   ]
  },
  {
   "cell_type": "code",
   "execution_count": 161,
   "metadata": {},
   "outputs": [
    {
     "data": {
      "text/plain": [
       "Index(['KitchenQual', 'Functional', 'FireplaceQu', 'GarageType',\n",
       "       'GarageFinish', 'GarageQual', 'GarageCond', 'PavedDrive', 'PoolQC',\n",
       "       'Fence', 'MiscFeature', 'SaleType', 'SaleCondition'],\n",
       "      dtype='object')"
      ]
     },
     "execution_count": 161,
     "metadata": {},
     "output_type": "execute_result"
    }
   ],
   "source": [
    "df.select_dtypes(['object']).columns"
   ]
  },
  {
   "cell_type": "code",
   "execution_count": 189,
   "metadata": {},
   "outputs": [
    {
     "data": {
      "text/html": [
       "<div>\n",
       "<style scoped>\n",
       "    .dataframe tbody tr th:only-of-type {\n",
       "        vertical-align: middle;\n",
       "    }\n",
       "\n",
       "    .dataframe tbody tr th {\n",
       "        vertical-align: top;\n",
       "    }\n",
       "\n",
       "    .dataframe thead th {\n",
       "        text-align: right;\n",
       "    }\n",
       "</style>\n",
       "<table border=\"1\" class=\"dataframe\">\n",
       "  <thead>\n",
       "    <tr style=\"text-align: right;\">\n",
       "      <th></th>\n",
       "      <th>Fireplaces</th>\n",
       "      <th>FireplaceQu</th>\n",
       "    </tr>\n",
       "  </thead>\n",
       "  <tbody>\n",
       "    <tr>\n",
       "      <th>0</th>\n",
       "      <td>0</td>\n",
       "      <td>NaN</td>\n",
       "    </tr>\n",
       "    <tr>\n",
       "      <th>1</th>\n",
       "      <td>1</td>\n",
       "      <td>TA</td>\n",
       "    </tr>\n",
       "    <tr>\n",
       "      <th>2</th>\n",
       "      <td>1</td>\n",
       "      <td>TA</td>\n",
       "    </tr>\n",
       "    <tr>\n",
       "      <th>3</th>\n",
       "      <td>1</td>\n",
       "      <td>Gd</td>\n",
       "    </tr>\n",
       "    <tr>\n",
       "      <th>4</th>\n",
       "      <td>1</td>\n",
       "      <td>TA</td>\n",
       "    </tr>\n",
       "    <tr>\n",
       "      <th>...</th>\n",
       "      <td>...</td>\n",
       "      <td>...</td>\n",
       "    </tr>\n",
       "    <tr>\n",
       "      <th>1455</th>\n",
       "      <td>1</td>\n",
       "      <td>TA</td>\n",
       "    </tr>\n",
       "    <tr>\n",
       "      <th>1456</th>\n",
       "      <td>2</td>\n",
       "      <td>TA</td>\n",
       "    </tr>\n",
       "    <tr>\n",
       "      <th>1457</th>\n",
       "      <td>2</td>\n",
       "      <td>Gd</td>\n",
       "    </tr>\n",
       "    <tr>\n",
       "      <th>1458</th>\n",
       "      <td>0</td>\n",
       "      <td>NaN</td>\n",
       "    </tr>\n",
       "    <tr>\n",
       "      <th>1459</th>\n",
       "      <td>0</td>\n",
       "      <td>NaN</td>\n",
       "    </tr>\n",
       "  </tbody>\n",
       "</table>\n",
       "<p>1460 rows × 2 columns</p>\n",
       "</div>"
      ],
      "text/plain": [
       "      Fireplaces FireplaceQu\n",
       "0              0         NaN\n",
       "1              1          TA\n",
       "2              1          TA\n",
       "3              1          Gd\n",
       "4              1          TA\n",
       "...          ...         ...\n",
       "1455           1          TA\n",
       "1456           2          TA\n",
       "1457           2          Gd\n",
       "1458           0         NaN\n",
       "1459           0         NaN\n",
       "\n",
       "[1460 rows x 2 columns]"
      ]
     },
     "execution_count": 189,
     "metadata": {},
     "output_type": "execute_result"
    }
   ],
   "source": [
    "df[['Fireplaces','FireplaceQu']]\n",
    "#The FireplaceQU just needs to be changed from NAN to NA and then made into dummies\n",
    "#This is what needs to happen for all of the garage columns as well"
   ]
  },
  {
   "cell_type": "code",
   "execution_count": 192,
   "metadata": {},
   "outputs": [
    {
     "data": {
      "text/html": [
       "<div>\n",
       "<style scoped>\n",
       "    .dataframe tbody tr th:only-of-type {\n",
       "        vertical-align: middle;\n",
       "    }\n",
       "\n",
       "    .dataframe tbody tr th {\n",
       "        vertical-align: top;\n",
       "    }\n",
       "\n",
       "    .dataframe thead th {\n",
       "        text-align: right;\n",
       "    }\n",
       "</style>\n",
       "<table border=\"1\" class=\"dataframe\">\n",
       "  <thead>\n",
       "    <tr style=\"text-align: right;\">\n",
       "      <th></th>\n",
       "      <th>GarageType</th>\n",
       "      <th>GarageCars</th>\n",
       "    </tr>\n",
       "  </thead>\n",
       "  <tbody>\n",
       "    <tr>\n",
       "      <th>39</th>\n",
       "      <td>NaN</td>\n",
       "      <td>0</td>\n",
       "    </tr>\n",
       "    <tr>\n",
       "      <th>48</th>\n",
       "      <td>NaN</td>\n",
       "      <td>0</td>\n",
       "    </tr>\n",
       "    <tr>\n",
       "      <th>78</th>\n",
       "      <td>NaN</td>\n",
       "      <td>0</td>\n",
       "    </tr>\n",
       "    <tr>\n",
       "      <th>88</th>\n",
       "      <td>NaN</td>\n",
       "      <td>0</td>\n",
       "    </tr>\n",
       "    <tr>\n",
       "      <th>89</th>\n",
       "      <td>NaN</td>\n",
       "      <td>0</td>\n",
       "    </tr>\n",
       "    <tr>\n",
       "      <th>...</th>\n",
       "      <td>...</td>\n",
       "      <td>...</td>\n",
       "    </tr>\n",
       "    <tr>\n",
       "      <th>1349</th>\n",
       "      <td>NaN</td>\n",
       "      <td>0</td>\n",
       "    </tr>\n",
       "    <tr>\n",
       "      <th>1407</th>\n",
       "      <td>NaN</td>\n",
       "      <td>0</td>\n",
       "    </tr>\n",
       "    <tr>\n",
       "      <th>1449</th>\n",
       "      <td>NaN</td>\n",
       "      <td>0</td>\n",
       "    </tr>\n",
       "    <tr>\n",
       "      <th>1450</th>\n",
       "      <td>NaN</td>\n",
       "      <td>0</td>\n",
       "    </tr>\n",
       "    <tr>\n",
       "      <th>1453</th>\n",
       "      <td>NaN</td>\n",
       "      <td>0</td>\n",
       "    </tr>\n",
       "  </tbody>\n",
       "</table>\n",
       "<p>81 rows × 2 columns</p>\n",
       "</div>"
      ],
      "text/plain": [
       "     GarageType  GarageCars\n",
       "39          NaN           0\n",
       "48          NaN           0\n",
       "78          NaN           0\n",
       "88          NaN           0\n",
       "89          NaN           0\n",
       "...         ...         ...\n",
       "1349        NaN           0\n",
       "1407        NaN           0\n",
       "1449        NaN           0\n",
       "1450        NaN           0\n",
       "1453        NaN           0\n",
       "\n",
       "[81 rows x 2 columns]"
      ]
     },
     "execution_count": 192,
     "metadata": {},
     "output_type": "execute_result"
    }
   ],
   "source": [
    "df.loc[df['GarageCars']==0][['GarageType','GarageCars']]"
   ]
  },
  {
   "cell_type": "code",
   "execution_count": 245,
   "metadata": {},
   "outputs": [
    {
     "data": {
      "text/plain": [
       "PoolQC         1453\n",
       "MiscFeature    1406\n",
       "Alley          1369\n",
       "Fence          1179\n",
       "FireplaceQu     690\n",
       "dtype: int64"
      ]
     },
     "execution_count": 245,
     "metadata": {},
     "output_type": "execute_result"
    }
   ],
   "source": [
    "df.isnull().sum().sort_values(ascending=False).head(5)"
   ]
  },
  {
   "cell_type": "code",
   "execution_count": 246,
   "metadata": {},
   "outputs": [
    {
     "data": {
      "text/plain": [
       "PoolQC         1453\n",
       "MiscFeature    1406\n",
       "Alley          1369\n",
       "Fence          1179\n",
       "FireplaceQu     690\n",
       "dtype: int64"
      ]
     },
     "execution_count": 246,
     "metadata": {},
     "output_type": "execute_result"
    }
   ],
   "source": [
    "df.isnull().sum().sort_values(ascending=False).head(5)\n",
    "#All the Null values are now gone"
   ]
  },
  {
   "cell_type": "code",
   "execution_count": 201,
   "metadata": {},
   "outputs": [
    {
     "data": {
      "text/plain": [
       "Index(['KitchenQual', 'Functional', 'FireplaceQu', 'GarageType', 'GarageYrBlt',\n",
       "       'GarageFinish', 'GarageQual', 'GarageCond', 'PavedDrive', 'PoolQC',\n",
       "       'Fence', 'MiscFeature', 'SaleType', 'SaleCondition'],\n",
       "      dtype='object')"
      ]
     },
     "execution_count": 201,
     "metadata": {},
     "output_type": "execute_result"
    }
   ],
   "source": [
    "df.select_dtypes(['object']).columns"
   ]
  },
  {
   "cell_type": "code",
   "execution_count": 204,
   "metadata": {},
   "outputs": [],
   "source": [
    "#Going to add these last values as dummy variables except for the YrBuilt which should be numerical but is not"
   ]
  },
  {
   "cell_type": "code",
   "execution_count": 231,
   "metadata": {},
   "outputs": [
    {
     "data": {
      "text/plain": [
       "Index([], dtype='object')"
      ]
     },
     "execution_count": 231,
     "metadata": {},
     "output_type": "execute_result"
    }
   ],
   "source": [
    "df.select_dtypes(['object']).columns"
   ]
  },
  {
   "cell_type": "code",
   "execution_count": 218,
   "metadata": {},
   "outputs": [
    {
     "data": {
      "text/plain": [
       "0       2003\n",
       "1       1976\n",
       "2       2001\n",
       "3       1998\n",
       "4       2000\n",
       "        ... \n",
       "1455    1999\n",
       "1456    1978\n",
       "1457    1941\n",
       "1458    1950\n",
       "1459    1965\n",
       "Name: GarageYrBlt, Length: 1460, dtype: object"
      ]
     },
     "execution_count": 218,
     "metadata": {},
     "output_type": "execute_result"
    }
   ],
   "source": [
    "df['GarageYrBlt']"
   ]
  },
  {
   "cell_type": "code",
   "execution_count": 212,
   "metadata": {},
   "outputs": [],
   "source": [
    "## I dont want to delete the 81 rows that have No value for garage built becasue they dont have a garage so\n",
    "## I am going to try and fill these in either based off a related column or just based off the mean"
   ]
  },
  {
   "cell_type": "code",
   "execution_count": 223,
   "metadata": {},
   "outputs": [
    {
     "data": {
      "text/plain": [
       "<matplotlib.axes._subplots.AxesSubplot at 0x11eab28a8c8>"
      ]
     },
     "execution_count": 223,
     "metadata": {},
     "output_type": "execute_result"
    },
    {
     "data": {
      "image/png": "[encoded data removed]",
      "text/plain": [
       "<Figure size 432x288 with 1 Axes>"
      ]
     },
     "metadata": {
      "needs_background": "light"
     },
     "output_type": "display_data"
    }
   ],
   "source": [
    "df.corr()['GarageYrBlt'].sort_values(ascending=False).drop('GarageYrBlt').head(10).plot(kind='bar')"
   ]
  },
  {
   "cell_type": "code",
   "execution_count": 224,
   "metadata": {},
   "outputs": [],
   "source": [
    "#The correlation with YearBuilt is extremly high so let's just fill in our blank values for the year the house \n",
    "# was built even though these rows don't really have a garage this should be a pretty fair assesment"
   ]
  },
  {
   "cell_type": "code",
   "execution_count": 225,
   "metadata": {},
   "outputs": [],
   "source": [
    "def fill_in_garage_yr(YearBuilt,GarageYrBlt):\n",
    "    if np.isnan(GarageYrBlt):\n",
    "        return YearBuilt\n",
    "    else:\n",
    "        return GarageYrBlt"
   ]
  },
  {
   "cell_type": "code",
   "execution_count": 226,
   "metadata": {},
   "outputs": [],
   "source": [
    "df['GarageYrBlt'] = df.apply(lambda x: fill_in_garage_yr(x['YearBuilt'],x['GarageYrBlt']),axis=1)"
   ]
  },
  {
   "cell_type": "code",
   "execution_count": 227,
   "metadata": {},
   "outputs": [
    {
     "data": {
      "text/plain": [
       "0"
      ]
     },
     "execution_count": 227,
     "metadata": {},
     "output_type": "execute_result"
    }
   ],
   "source": [
    "df['GarageYrBlt'].isnull().sum()"
   ]
  },
  {
   "cell_type": "code",
   "execution_count": 228,
   "metadata": {},
   "outputs": [],
   "source": [
    "#Great! so now we have no null values for the GarageYrBuilt and we can leave it as a numerical value\n",
    "# Time to build our model"
   ]
  },
  {
   "cell_type": "code",
   "execution_count": 255,
   "metadata": {},
   "outputs": [
    {
     "name": "stdout",
     "output_type": "stream",
     "text": [
      "<class 'pandas.core.frame.DataFrame'>\n",
      "RangeIndex: 1460 entries, 0 to 1459\n",
      "Columns: 253 entries, LotFrontage to SaleCondition_Partial\n",
      "dtypes: float64(3), int64(33), uint8(217)\n",
      "memory usage: 720.1 KB\n"
     ]
    }
   ],
   "source": [
    "df.info()"
   ]
  },
  {
   "cell_type": "code",
   "execution_count": 280,
   "metadata": {},
   "outputs": [
    {
     "data": {
      "text/html": [
       "<div>\n",
       "<style scoped>\n",
       "    .dataframe tbody tr th:only-of-type {\n",
       "        vertical-align: middle;\n",
       "    }\n",
       "\n",
       "    .dataframe tbody tr th {\n",
       "        vertical-align: top;\n",
       "    }\n",
       "\n",
       "    .dataframe thead th {\n",
       "        text-align: right;\n",
       "    }\n",
       "</style>\n",
       "<table border=\"1\" class=\"dataframe\">\n",
       "  <thead>\n",
       "    <tr style=\"text-align: right;\">\n",
       "      <th></th>\n",
       "      <th>LotFrontage</th>\n",
       "      <th>LotArea</th>\n",
       "      <th>OverallQual</th>\n",
       "      <th>OverallCond</th>\n",
       "      <th>YearBuilt</th>\n",
       "      <th>YearRemodAdd</th>\n",
       "      <th>MasVnrArea</th>\n",
       "      <th>BsmtFinSF1</th>\n",
       "      <th>BsmtFinSF2</th>\n",
       "      <th>BsmtUnfSF</th>\n",
       "      <th>TotalBsmtSF</th>\n",
       "      <th>1stFlrSF</th>\n",
       "      <th>2ndFlrSF</th>\n",
       "      <th>LowQualFinSF</th>\n",
       "      <th>GrLivArea</th>\n",
       "      <th>BsmtFullBath</th>\n",
       "      <th>BsmtHalfBath</th>\n",
       "      <th>FullBath</th>\n",
       "      <th>HalfBath</th>\n",
       "      <th>BedroomAbvGr</th>\n",
       "      <th>KitchenAbvGr</th>\n",
       "      <th>TotRmsAbvGrd</th>\n",
       "      <th>Fireplaces</th>\n",
       "      <th>GarageYrBlt</th>\n",
       "      <th>GarageCars</th>\n",
       "      <th>GarageArea</th>\n",
       "      <th>WoodDeckSF</th>\n",
       "      <th>OpenPorchSF</th>\n",
       "      <th>EnclosedPorch</th>\n",
       "      <th>3SsnPorch</th>\n",
       "      <th>ScreenPorch</th>\n",
       "      <th>PoolArea</th>\n",
       "      <th>MiscVal</th>\n",
       "      <th>MoSold</th>\n",
       "      <th>YrSold</th>\n",
       "      <th>SalePrice</th>\n",
       "      <th>30</th>\n",
       "      <th>40</th>\n",
       "      <th>45</th>\n",
       "      <th>50</th>\n",
       "      <th>60</th>\n",
       "      <th>70</th>\n",
       "      <th>75</th>\n",
       "      <th>80</th>\n",
       "      <th>85</th>\n",
       "      <th>90</th>\n",
       "      <th>120</th>\n",
       "      <th>160</th>\n",
       "      <th>180</th>\n",
       "      <th>190</th>\n",
       "      <th>MSZoning_FV</th>\n",
       "      <th>MSZoning_RH</th>\n",
       "      <th>MSZoning_RL</th>\n",
       "      <th>MSZoning_RM</th>\n",
       "      <th>Street_Pave</th>\n",
       "      <th>Alley_NA</th>\n",
       "      <th>Alley_Pave</th>\n",
       "      <th>LotShape_IR2</th>\n",
       "      <th>LotShape_IR3</th>\n",
       "      <th>LotShape_Reg</th>\n",
       "      <th>LandContour_HLS</th>\n",
       "      <th>LandContour_Low</th>\n",
       "      <th>LandContour_Lvl</th>\n",
       "      <th>LotConfig_CulDSac</th>\n",
       "      <th>LotConfig_FR2</th>\n",
       "      <th>LotConfig_FR3</th>\n",
       "      <th>LotConfig_Inside</th>\n",
       "      <th>LandSlope_Mod</th>\n",
       "      <th>LandSlope_Sev</th>\n",
       "      <th>Neighborhood_Blueste</th>\n",
       "      <th>Neighborhood_BrDale</th>\n",
       "      <th>Neighborhood_BrkSide</th>\n",
       "      <th>Neighborhood_ClearCr</th>\n",
       "      <th>Neighborhood_CollgCr</th>\n",
       "      <th>Neighborhood_Crawfor</th>\n",
       "      <th>Neighborhood_Edwards</th>\n",
       "      <th>Neighborhood_Gilbert</th>\n",
       "      <th>Neighborhood_IDOTRR</th>\n",
       "      <th>Neighborhood_MeadowV</th>\n",
       "      <th>Neighborhood_Mitchel</th>\n",
       "      <th>Neighborhood_NAmes</th>\n",
       "      <th>Neighborhood_NPkVill</th>\n",
       "      <th>Neighborhood_NWAmes</th>\n",
       "      <th>Neighborhood_NoRidge</th>\n",
       "      <th>Neighborhood_NridgHt</th>\n",
       "      <th>Neighborhood_OldTown</th>\n",
       "      <th>Neighborhood_SWISU</th>\n",
       "      <th>Neighborhood_Sawyer</th>\n",
       "      <th>Neighborhood_SawyerW</th>\n",
       "      <th>Neighborhood_Somerst</th>\n",
       "      <th>Neighborhood_StoneBr</th>\n",
       "      <th>Neighborhood_Timber</th>\n",
       "      <th>Neighborhood_Veenker</th>\n",
       "      <th>Condition1_Feedr</th>\n",
       "      <th>Condition1_Norm</th>\n",
       "      <th>Condition1_PosA</th>\n",
       "      <th>Condition1_PosN</th>\n",
       "      <th>Condition1_RRAe</th>\n",
       "      <th>Condition1_RRAn</th>\n",
       "      <th>Condition1_RRNe</th>\n",
       "      <th>Condition1_RRNn</th>\n",
       "      <th>Condition2_Feedr</th>\n",
       "      <th>Condition2_Norm</th>\n",
       "      <th>Condition2_PosA</th>\n",
       "      <th>Condition2_PosN</th>\n",
       "      <th>Condition2_RRAe</th>\n",
       "      <th>Condition2_RRAn</th>\n",
       "      <th>Condition2_RRNn</th>\n",
       "      <th>BldgType_2fmCon</th>\n",
       "      <th>BldgType_Duplex</th>\n",
       "      <th>BldgType_Twnhs</th>\n",
       "      <th>BldgType_TwnhsE</th>\n",
       "      <th>HouseStyle_1.5Unf</th>\n",
       "      <th>HouseStyle_1Story</th>\n",
       "      <th>HouseStyle_2.5Fin</th>\n",
       "      <th>HouseStyle_2.5Unf</th>\n",
       "      <th>HouseStyle_2Story</th>\n",
       "      <th>HouseStyle_SFoyer</th>\n",
       "      <th>HouseStyle_SLvl</th>\n",
       "      <th>RoofStyle_Gable</th>\n",
       "      <th>RoofStyle_Gambrel</th>\n",
       "      <th>RoofStyle_Hip</th>\n",
       "      <th>RoofStyle_Mansard</th>\n",
       "      <th>RoofStyle_Shed</th>\n",
       "      <th>RoofMatl_CompShg</th>\n",
       "      <th>RoofMatl_Membran</th>\n",
       "      <th>RoofMatl_Metal</th>\n",
       "      <th>RoofMatl_Roll</th>\n",
       "      <th>RoofMatl_Tar&amp;Grv</th>\n",
       "      <th>RoofMatl_WdShake</th>\n",
       "      <th>RoofMatl_WdShngl</th>\n",
       "      <th>Exterior2nd_AsphShn</th>\n",
       "      <th>Exterior2nd_Brk Cmn</th>\n",
       "      <th>Exterior2nd_BrkFace</th>\n",
       "      <th>Exterior2nd_CBlock</th>\n",
       "      <th>Exterior2nd_CmentBd</th>\n",
       "      <th>Exterior2nd_HdBoard</th>\n",
       "      <th>Exterior2nd_ImStucc</th>\n",
       "      <th>Exterior2nd_MetalSd</th>\n",
       "      <th>Exterior2nd_Other</th>\n",
       "      <th>Exterior2nd_Plywood</th>\n",
       "      <th>Exterior2nd_Stone</th>\n",
       "      <th>Exterior2nd_Stucco</th>\n",
       "      <th>Exterior2nd_VinylSd</th>\n",
       "      <th>Exterior2nd_Wd Sdng</th>\n",
       "      <th>Exterior2nd_Wd Shng</th>\n",
       "      <th>MasVnrType_BrkFace</th>\n",
       "      <th>MasVnrType_None</th>\n",
       "      <th>MasVnrType_Stone</th>\n",
       "      <th>ExterQual_Fa</th>\n",
       "      <th>ExterQual_Gd</th>\n",
       "      <th>ExterQual_TA</th>\n",
       "      <th>ExterCond_Fa</th>\n",
       "      <th>ExterCond_Gd</th>\n",
       "      <th>ExterCond_Po</th>\n",
       "      <th>ExterCond_TA</th>\n",
       "      <th>Foundation_CBlock</th>\n",
       "      <th>Foundation_PConc</th>\n",
       "      <th>Foundation_Slab</th>\n",
       "      <th>Foundation_Stone</th>\n",
       "      <th>Foundation_Wood</th>\n",
       "      <th>BsmtQual_Fa</th>\n",
       "      <th>BsmtQual_Gd</th>\n",
       "      <th>BsmtQual_TA</th>\n",
       "      <th>BsmtCond_Gd</th>\n",
       "      <th>BsmtCond_Po</th>\n",
       "      <th>BsmtCond_TA</th>\n",
       "      <th>BsmtExposure_Gd</th>\n",
       "      <th>BsmtExposure_Mn</th>\n",
       "      <th>BsmtExposure_No</th>\n",
       "      <th>BsmtFinType1_BLQ</th>\n",
       "      <th>BsmtFinType1_GLQ</th>\n",
       "      <th>BsmtFinType1_LwQ</th>\n",
       "      <th>BsmtFinType1_Rec</th>\n",
       "      <th>BsmtFinType1_Unf</th>\n",
       "      <th>BsmtFinType2_BLQ</th>\n",
       "      <th>BsmtFinType2_GLQ</th>\n",
       "      <th>BsmtFinType2_LwQ</th>\n",
       "      <th>BsmtFinType2_Rec</th>\n",
       "      <th>BsmtFinType2_Unf</th>\n",
       "      <th>Heating_GasA</th>\n",
       "      <th>Heating_GasW</th>\n",
       "      <th>Heating_Grav</th>\n",
       "      <th>Heating_OthW</th>\n",
       "      <th>Heating_Wall</th>\n",
       "      <th>HeatingQC_Fa</th>\n",
       "      <th>HeatingQC_Gd</th>\n",
       "      <th>HeatingQC_Po</th>\n",
       "      <th>HeatingQC_TA</th>\n",
       "      <th>CentralAir_Y</th>\n",
       "      <th>Electrical_FuseF</th>\n",
       "      <th>Electrical_FuseP</th>\n",
       "      <th>Electrical_Mix</th>\n",
       "      <th>Electrical_SBrkr</th>\n",
       "      <th>KitchenQual_Fa</th>\n",
       "      <th>KitchenQual_Gd</th>\n",
       "      <th>KitchenQual_TA</th>\n",
       "      <th>Functional_Maj2</th>\n",
       "      <th>Functional_Min1</th>\n",
       "      <th>Functional_Min2</th>\n",
       "      <th>Functional_Mod</th>\n",
       "      <th>Functional_Sev</th>\n",
       "      <th>Functional_Typ</th>\n",
       "      <th>FireplaceQu_Fa</th>\n",
       "      <th>FireplaceQu_Gd</th>\n",
       "      <th>FireplaceQu_NA</th>\n",
       "      <th>FireplaceQu_Po</th>\n",
       "      <th>FireplaceQu_TA</th>\n",
       "      <th>GarageType_Attchd</th>\n",
       "      <th>GarageType_Basment</th>\n",
       "      <th>GarageType_BuiltIn</th>\n",
       "      <th>GarageType_CarPort</th>\n",
       "      <th>GarageType_Detchd</th>\n",
       "      <th>GarageType_NA</th>\n",
       "      <th>GarageFinish_NA</th>\n",
       "      <th>GarageFinish_RFn</th>\n",
       "      <th>GarageFinish_Unf</th>\n",
       "      <th>GarageQual_Fa</th>\n",
       "      <th>GarageQual_Gd</th>\n",
       "      <th>GarageQual_NA</th>\n",
       "      <th>GarageQual_Po</th>\n",
       "      <th>GarageQual_TA</th>\n",
       "      <th>GarageCond_Fa</th>\n",
       "      <th>GarageCond_Gd</th>\n",
       "      <th>GarageCond_NA</th>\n",
       "      <th>GarageCond_Po</th>\n",
       "      <th>GarageCond_TA</th>\n",
       "      <th>PavedDrive_P</th>\n",
       "      <th>PavedDrive_Y</th>\n",
       "      <th>PoolQC_Fa</th>\n",
       "      <th>PoolQC_Gd</th>\n",
       "      <th>PoolQC_NA</th>\n",
       "      <th>Fence_GdWo</th>\n",
       "      <th>Fence_MnPrv</th>\n",
       "      <th>Fence_MnWw</th>\n",
       "      <th>Fence_NA</th>\n",
       "      <th>MiscFeature_NA</th>\n",
       "      <th>MiscFeature_Othr</th>\n",
       "      <th>MiscFeature_Shed</th>\n",
       "      <th>MiscFeature_TenC</th>\n",
       "      <th>SaleType_CWD</th>\n",
       "      <th>SaleType_Con</th>\n",
       "      <th>SaleType_ConLD</th>\n",
       "      <th>SaleType_ConLI</th>\n",
       "      <th>SaleType_ConLw</th>\n",
       "      <th>SaleType_New</th>\n",
       "      <th>SaleType_Oth</th>\n",
       "      <th>SaleType_WD</th>\n",
       "      <th>SaleCondition_AdjLand</th>\n",
       "      <th>SaleCondition_Alloca</th>\n",
       "      <th>SaleCondition_Family</th>\n",
       "      <th>SaleCondition_Normal</th>\n",
       "      <th>SaleCondition_Partial</th>\n",
       "    </tr>\n",
       "  </thead>\n",
       "  <tbody>\n",
       "    <tr>\n",
       "      <th>0</th>\n",
       "      <td>65.0</td>\n",
       "      <td>8450</td>\n",
       "      <td>7</td>\n",
       "      <td>5</td>\n",
       "      <td>2003</td>\n",
       "      <td>2003</td>\n",
       "      <td>196.0</td>\n",
       "      <td>706</td>\n",
       "      <td>0</td>\n",
       "      <td>150</td>\n",
       "      <td>856</td>\n",
       "      <td>856</td>\n",
       "      <td>854</td>\n",
       "      <td>0</td>\n",
       "      <td>1710</td>\n",
       "      <td>1</td>\n",
       "      <td>0</td>\n",
       "      <td>2</td>\n",
       "      <td>1</td>\n",
       "      <td>3</td>\n",
       "      <td>1</td>\n",
       "      <td>8</td>\n",
       "      <td>0</td>\n",
       "      <td>2003.0</td>\n",
       "      <td>2</td>\n",
       "      <td>548</td>\n",
       "      <td>0</td>\n",
       "      <td>61</td>\n",
       "      <td>0</td>\n",
       "      <td>0</td>\n",
       "      <td>0</td>\n",
       "      <td>0</td>\n",
       "      <td>0</td>\n",
       "      <td>2</td>\n",
       "      <td>2008</td>\n",
       "      <td>208500</td>\n",
       "      <td>0</td>\n",
       "      <td>0</td>\n",
       "      <td>0</td>\n",
       "      <td>0</td>\n",
       "      <td>1</td>\n",
       "      <td>0</td>\n",
       "      <td>0</td>\n",
       "      <td>0</td>\n",
       "      <td>0</td>\n",
       "      <td>0</td>\n",
       "      <td>0</td>\n",
       "      <td>0</td>\n",
       "      <td>0</td>\n",
       "      <td>0</td>\n",
       "      <td>0</td>\n",
       "      <td>0</td>\n",
       "      <td>1</td>\n",
       "      <td>0</td>\n",
       "      <td>1</td>\n",
       "      <td>1</td>\n",
       "      <td>0</td>\n",
       "      <td>0</td>\n",
       "      <td>0</td>\n",
       "      <td>1</td>\n",
       "      <td>0</td>\n",
       "      <td>0</td>\n",
       "      <td>1</td>\n",
       "      <td>0</td>\n",
       "      <td>0</td>\n",
       "      <td>0</td>\n",
       "      <td>1</td>\n",
       "      <td>0</td>\n",
       "      <td>0</td>\n",
       "      <td>0</td>\n",
       "      <td>0</td>\n",
       "      <td>0</td>\n",
       "      <td>0</td>\n",
       "      <td>1</td>\n",
       "      <td>0</td>\n",
       "      <td>0</td>\n",
       "      <td>0</td>\n",
       "      <td>0</td>\n",
       "      <td>0</td>\n",
       "      <td>0</td>\n",
       "      <td>0</td>\n",
       "      <td>0</td>\n",
       "      <td>0</td>\n",
       "      <td>0</td>\n",
       "      <td>0</td>\n",
       "      <td>0</td>\n",
       "      <td>0</td>\n",
       "      <td>0</td>\n",
       "      <td>0</td>\n",
       "      <td>0</td>\n",
       "      <td>0</td>\n",
       "      <td>0</td>\n",
       "      <td>0</td>\n",
       "      <td>0</td>\n",
       "      <td>1</td>\n",
       "      <td>0</td>\n",
       "      <td>0</td>\n",
       "      <td>0</td>\n",
       "      <td>0</td>\n",
       "      <td>0</td>\n",
       "      <td>0</td>\n",
       "      <td>0</td>\n",
       "      <td>1</td>\n",
       "      <td>0</td>\n",
       "      <td>0</td>\n",
       "      <td>0</td>\n",
       "      <td>0</td>\n",
       "      <td>0</td>\n",
       "      <td>0</td>\n",
       "      <td>0</td>\n",
       "      <td>0</td>\n",
       "      <td>0</td>\n",
       "      <td>0</td>\n",
       "      <td>0</td>\n",
       "      <td>0</td>\n",
       "      <td>0</td>\n",
       "      <td>1</td>\n",
       "      <td>0</td>\n",
       "      <td>0</td>\n",
       "      <td>1</td>\n",
       "      <td>0</td>\n",
       "      <td>0</td>\n",
       "      <td>0</td>\n",
       "      <td>0</td>\n",
       "      <td>1</td>\n",
       "      <td>0</td>\n",
       "      <td>0</td>\n",
       "      <td>0</td>\n",
       "      <td>0</td>\n",
       "      <td>0</td>\n",
       "      <td>0</td>\n",
       "      <td>0</td>\n",
       "      <td>0</td>\n",
       "      <td>0</td>\n",
       "      <td>0</td>\n",
       "      <td>0</td>\n",
       "      <td>0</td>\n",
       "      <td>0</td>\n",
       "      <td>0</td>\n",
       "      <td>0</td>\n",
       "      <td>0</td>\n",
       "      <td>0</td>\n",
       "      <td>0</td>\n",
       "      <td>1</td>\n",
       "      <td>0</td>\n",
       "      <td>0</td>\n",
       "      <td>1</td>\n",
       "      <td>0</td>\n",
       "      <td>0</td>\n",
       "      <td>0</td>\n",
       "      <td>1</td>\n",
       "      <td>0</td>\n",
       "      <td>0</td>\n",
       "      <td>0</td>\n",
       "      <td>0</td>\n",
       "      <td>1</td>\n",
       "      <td>0</td>\n",
       "      <td>1</td>\n",
       "      <td>0</td>\n",
       "      <td>0</td>\n",
       "      <td>0</td>\n",
       "      <td>0</td>\n",
       "      <td>1</td>\n",
       "      <td>0</td>\n",
       "      <td>0</td>\n",
       "      <td>0</td>\n",
       "      <td>1</td>\n",
       "      <td>0</td>\n",
       "      <td>0</td>\n",
       "      <td>1</td>\n",
       "      <td>0</td>\n",
       "      <td>1</td>\n",
       "      <td>0</td>\n",
       "      <td>0</td>\n",
       "      <td>0</td>\n",
       "      <td>0</td>\n",
       "      <td>0</td>\n",
       "      <td>0</td>\n",
       "      <td>0</td>\n",
       "      <td>1</td>\n",
       "      <td>1</td>\n",
       "      <td>0</td>\n",
       "      <td>0</td>\n",
       "      <td>0</td>\n",
       "      <td>0</td>\n",
       "      <td>0</td>\n",
       "      <td>0</td>\n",
       "      <td>0</td>\n",
       "      <td>0</td>\n",
       "      <td>1</td>\n",
       "      <td>0</td>\n",
       "      <td>0</td>\n",
       "      <td>0</td>\n",
       "      <td>1</td>\n",
       "      <td>0</td>\n",
       "      <td>1</td>\n",
       "      <td>0</td>\n",
       "      <td>0</td>\n",
       "      <td>0</td>\n",
       "      <td>0</td>\n",
       "      <td>0</td>\n",
       "      <td>0</td>\n",
       "      <td>1</td>\n",
       "      <td>0</td>\n",
       "      <td>0</td>\n",
       "      <td>1</td>\n",
       "      <td>0</td>\n",
       "      <td>0</td>\n",
       "      <td>1</td>\n",
       "      <td>0</td>\n",
       "      <td>0</td>\n",
       "      <td>0</td>\n",
       "      <td>0</td>\n",
       "      <td>0</td>\n",
       "      <td>0</td>\n",
       "      <td>1</td>\n",
       "      <td>0</td>\n",
       "      <td>0</td>\n",
       "      <td>0</td>\n",
       "      <td>0</td>\n",
       "      <td>0</td>\n",
       "      <td>1</td>\n",
       "      <td>0</td>\n",
       "      <td>0</td>\n",
       "      <td>0</td>\n",
       "      <td>0</td>\n",
       "      <td>1</td>\n",
       "      <td>0</td>\n",
       "      <td>1</td>\n",
       "      <td>0</td>\n",
       "      <td>0</td>\n",
       "      <td>1</td>\n",
       "      <td>0</td>\n",
       "      <td>0</td>\n",
       "      <td>0</td>\n",
       "      <td>1</td>\n",
       "      <td>1</td>\n",
       "      <td>0</td>\n",
       "      <td>0</td>\n",
       "      <td>0</td>\n",
       "      <td>0</td>\n",
       "      <td>0</td>\n",
       "      <td>0</td>\n",
       "      <td>0</td>\n",
       "      <td>0</td>\n",
       "      <td>0</td>\n",
       "      <td>0</td>\n",
       "      <td>1</td>\n",
       "      <td>0</td>\n",
       "      <td>0</td>\n",
       "      <td>0</td>\n",
       "      <td>1</td>\n",
       "      <td>0</td>\n",
       "    </tr>\n",
       "  </tbody>\n",
       "</table>\n",
       "</div>"
      ],
      "text/plain": [
       "   LotFrontage  LotArea  OverallQual  OverallCond  YearBuilt  YearRemodAdd  \\\n",
       "0         65.0     8450            7            5       2003          2003   \n",
       "\n",
       "   MasVnrArea  BsmtFinSF1  BsmtFinSF2  BsmtUnfSF  TotalBsmtSF  1stFlrSF  \\\n",
       "0       196.0         706           0        150          856       856   \n",
       "\n",
       "   2ndFlrSF  LowQualFinSF  GrLivArea  BsmtFullBath  BsmtHalfBath  FullBath  \\\n",
       "0       854             0       1710             1             0         2   \n",
       "\n",
       "   HalfBath  BedroomAbvGr  KitchenAbvGr  TotRmsAbvGrd  Fireplaces  \\\n",
       "0         1             3             1             8           0   \n",
       "\n",
       "   GarageYrBlt  GarageCars  GarageArea  WoodDeckSF  OpenPorchSF  \\\n",
       "0       2003.0           2         548           0           61   \n",
       "\n",
       "   EnclosedPorch  3SsnPorch  ScreenPorch  PoolArea  MiscVal  MoSold  YrSold  \\\n",
       "0              0          0            0         0        0       2    2008   \n",
       "\n",
       "   SalePrice  30  40  45  50  60  70  75  80  85  90  120  160  180  190  \\\n",
       "0     208500   0   0   0   0   1   0   0   0   0   0    0    0    0    0   \n",
       "\n",
       "   MSZoning_FV  MSZoning_RH  MSZoning_RL  MSZoning_RM  Street_Pave  Alley_NA  \\\n",
       "0            0            0            1            0            1         1   \n",
       "\n",
       "   Alley_Pave  LotShape_IR2  LotShape_IR3  LotShape_Reg  LandContour_HLS  \\\n",
       "0           0             0             0             1                0   \n",
       "\n",
       "   LandContour_Low  LandContour_Lvl  LotConfig_CulDSac  LotConfig_FR2  \\\n",
       "0                0                1                  0              0   \n",
       "\n",
       "   LotConfig_FR3  LotConfig_Inside  LandSlope_Mod  LandSlope_Sev  \\\n",
       "0              0                 1              0              0   \n",
       "\n",
       "   Neighborhood_Blueste  Neighborhood_BrDale  Neighborhood_BrkSide  \\\n",
       "0                     0                    0                     0   \n",
       "\n",
       "   Neighborhood_ClearCr  Neighborhood_CollgCr  Neighborhood_Crawfor  \\\n",
       "0                     0                     1                     0   \n",
       "\n",
       "   Neighborhood_Edwards  Neighborhood_Gilbert  Neighborhood_IDOTRR  \\\n",
       "0                     0                     0                    0   \n",
       "\n",
       "   Neighborhood_MeadowV  Neighborhood_Mitchel  Neighborhood_NAmes  \\\n",
       "0                     0                     0                   0   \n",
       "\n",
       "   Neighborhood_NPkVill  Neighborhood_NWAmes  Neighborhood_NoRidge  \\\n",
       "0                     0                    0                     0   \n",
       "\n",
       "   Neighborhood_NridgHt  Neighborhood_OldTown  Neighborhood_SWISU  \\\n",
       "0                     0                     0                   0   \n",
       "\n",
       "   Neighborhood_Sawyer  Neighborhood_SawyerW  Neighborhood_Somerst  \\\n",
       "0                    0                     0                     0   \n",
       "\n",
       "   Neighborhood_StoneBr  Neighborhood_Timber  Neighborhood_Veenker  \\\n",
       "0                     0                    0                     0   \n",
       "\n",
       "   Condition1_Feedr  Condition1_Norm  Condition1_PosA  Condition1_PosN  \\\n",
       "0                 0                1                0                0   \n",
       "\n",
       "   Condition1_RRAe  Condition1_RRAn  Condition1_RRNe  Condition1_RRNn  \\\n",
       "0                0                0                0                0   \n",
       "\n",
       "   Condition2_Feedr  Condition2_Norm  Condition2_PosA  Condition2_PosN  \\\n",
       "0                 0                1                0                0   \n",
       "\n",
       "   Condition2_RRAe  Condition2_RRAn  Condition2_RRNn  BldgType_2fmCon  \\\n",
       "0                0                0                0                0   \n",
       "\n",
       "   BldgType_Duplex  BldgType_Twnhs  BldgType_TwnhsE  HouseStyle_1.5Unf  \\\n",
       "0                0               0                0                  0   \n",
       "\n",
       "   HouseStyle_1Story  HouseStyle_2.5Fin  HouseStyle_2.5Unf  HouseStyle_2Story  \\\n",
       "0                  0                  0                  0                  1   \n",
       "\n",
       "   HouseStyle_SFoyer  HouseStyle_SLvl  RoofStyle_Gable  RoofStyle_Gambrel  \\\n",
       "0                  0                0                1                  0   \n",
       "\n",
       "   RoofStyle_Hip  RoofStyle_Mansard  RoofStyle_Shed  RoofMatl_CompShg  \\\n",
       "0              0                  0               0                 1   \n",
       "\n",
       "   RoofMatl_Membran  RoofMatl_Metal  RoofMatl_Roll  RoofMatl_Tar&Grv  \\\n",
       "0                 0               0              0                 0   \n",
       "\n",
       "   RoofMatl_WdShake  RoofMatl_WdShngl  Exterior2nd_AsphShn  \\\n",
       "0                 0                 0                    0   \n",
       "\n",
       "   Exterior2nd_Brk Cmn  Exterior2nd_BrkFace  Exterior2nd_CBlock  \\\n",
       "0                    0                    0                   0   \n",
       "\n",
       "   Exterior2nd_CmentBd  Exterior2nd_HdBoard  Exterior2nd_ImStucc  \\\n",
       "0                    0                    0                    0   \n",
       "\n",
       "   Exterior2nd_MetalSd  Exterior2nd_Other  Exterior2nd_Plywood  \\\n",
       "0                    0                  0                    0   \n",
       "\n",
       "   Exterior2nd_Stone  Exterior2nd_Stucco  Exterior2nd_VinylSd  \\\n",
       "0                  0                   0                    1   \n",
       "\n",
       "   Exterior2nd_Wd Sdng  Exterior2nd_Wd Shng  MasVnrType_BrkFace  \\\n",
       "0                    0                    0                   1   \n",
       "\n",
       "   MasVnrType_None  MasVnrType_Stone  ExterQual_Fa  ExterQual_Gd  \\\n",
       "0                0                 0             0             1   \n",
       "\n",
       "   ExterQual_TA  ExterCond_Fa  ExterCond_Gd  ExterCond_Po  ExterCond_TA  \\\n",
       "0             0             0             0             0             1   \n",
       "\n",
       "   Foundation_CBlock  Foundation_PConc  Foundation_Slab  Foundation_Stone  \\\n",
       "0                  0                 1                0                 0   \n",
       "\n",
       "   Foundation_Wood  BsmtQual_Fa  BsmtQual_Gd  BsmtQual_TA  BsmtCond_Gd  \\\n",
       "0                0            0            1            0            0   \n",
       "\n",
       "   BsmtCond_Po  BsmtCond_TA  BsmtExposure_Gd  BsmtExposure_Mn  \\\n",
       "0            0            1                0                0   \n",
       "\n",
       "   BsmtExposure_No  BsmtFinType1_BLQ  BsmtFinType1_GLQ  BsmtFinType1_LwQ  \\\n",
       "0                1                 0                 1                 0   \n",
       "\n",
       "   BsmtFinType1_Rec  BsmtFinType1_Unf  BsmtFinType2_BLQ  BsmtFinType2_GLQ  \\\n",
       "0                 0                 0                 0                 0   \n",
       "\n",
       "   BsmtFinType2_LwQ  BsmtFinType2_Rec  BsmtFinType2_Unf  Heating_GasA  \\\n",
       "0                 0                 0                 1             1   \n",
       "\n",
       "   Heating_GasW  Heating_Grav  Heating_OthW  Heating_Wall  HeatingQC_Fa  \\\n",
       "0             0             0             0             0             0   \n",
       "\n",
       "   HeatingQC_Gd  HeatingQC_Po  HeatingQC_TA  CentralAir_Y  Electrical_FuseF  \\\n",
       "0             0             0             0             1                 0   \n",
       "\n",
       "   Electrical_FuseP  Electrical_Mix  Electrical_SBrkr  KitchenQual_Fa  \\\n",
       "0                 0               0                 1               0   \n",
       "\n",
       "   KitchenQual_Gd  KitchenQual_TA  Functional_Maj2  Functional_Min1  \\\n",
       "0               1               0                0                0   \n",
       "\n",
       "   Functional_Min2  Functional_Mod  Functional_Sev  Functional_Typ  \\\n",
       "0                0               0               0               1   \n",
       "\n",
       "   FireplaceQu_Fa  FireplaceQu_Gd  FireplaceQu_NA  FireplaceQu_Po  \\\n",
       "0               0               0               1               0   \n",
       "\n",
       "   FireplaceQu_TA  GarageType_Attchd  GarageType_Basment  GarageType_BuiltIn  \\\n",
       "0               0                  1                   0                   0   \n",
       "\n",
       "   GarageType_CarPort  GarageType_Detchd  GarageType_NA  GarageFinish_NA  \\\n",
       "0                   0                  0              0                0   \n",
       "\n",
       "   GarageFinish_RFn  GarageFinish_Unf  GarageQual_Fa  GarageQual_Gd  \\\n",
       "0                 1                 0              0              0   \n",
       "\n",
       "   GarageQual_NA  GarageQual_Po  GarageQual_TA  GarageCond_Fa  GarageCond_Gd  \\\n",
       "0              0              0              1              0              0   \n",
       "\n",
       "   GarageCond_NA  GarageCond_Po  GarageCond_TA  PavedDrive_P  PavedDrive_Y  \\\n",
       "0              0              0              1             0             1   \n",
       "\n",
       "   PoolQC_Fa  PoolQC_Gd  PoolQC_NA  Fence_GdWo  Fence_MnPrv  Fence_MnWw  \\\n",
       "0          0          0          1           0            0           0   \n",
       "\n",
       "   Fence_NA  MiscFeature_NA  MiscFeature_Othr  MiscFeature_Shed  \\\n",
       "0         1               1                 0                 0   \n",
       "\n",
       "   MiscFeature_TenC  SaleType_CWD  SaleType_Con  SaleType_ConLD  \\\n",
       "0                 0             0             0               0   \n",
       "\n",
       "   SaleType_ConLI  SaleType_ConLw  SaleType_New  SaleType_Oth  SaleType_WD  \\\n",
       "0               0               0             0             0            1   \n",
       "\n",
       "   SaleCondition_AdjLand  SaleCondition_Alloca  SaleCondition_Family  \\\n",
       "0                      0                     0                     0   \n",
       "\n",
       "   SaleCondition_Normal  SaleCondition_Partial  \n",
       "0                     1                      0  "
      ]
     },
     "execution_count": 280,
     "metadata": {},
     "output_type": "execute_result"
    }
   ],
   "source": [
    "pd.set_option('display.max_columns', None)\n",
    "df.head(1)"
   ]
  },
  {
   "cell_type": "code",
   "execution_count": 63,
   "metadata": {},
   "outputs": [],
   "source": [
    "df = pd.read_csv('./train.csv')"
   ]
  },
  {
   "cell_type": "code",
   "execution_count": 64,
   "metadata": {},
   "outputs": [
    {
     "name": "stderr",
     "output_type": "stream",
     "text": [
      "C:\\Users\\towns\\anaconda3\\lib\\site-packages\\scipy\\stats\\stats.py:3508: PearsonRConstantInputWarning: An input array is constant; the correlation coefficent is not defined.\n",
      "  warnings.warn(PearsonRConstantInputWarning())\n",
      "C:\\Users\\towns\\anaconda3\\lib\\site-packages\\scipy\\stats\\stats.py:3538: PearsonRNearConstantInputWarning: An input array is nearly constant; the computed correlation coefficent may be inaccurate.\n",
      "  warnings.warn(PearsonRNearConstantInputWarning())\n"
     ]
    }
   ],
   "source": [
    "def fixing_skewness(df):\n",
    "    \"\"\"\n",
    "    This function takes in a dataframe and return fixed skewed dataframe\n",
    "    \"\"\"\n",
    "    ## Import necessary modules \n",
    "    from scipy.stats import skew\n",
    "    from scipy.special import boxcox1p\n",
    "    from scipy.stats import boxcox_normmax\n",
    "    \n",
    "    ## Getting all the data that are not of \"object\" type. \n",
    "    numeric_feats = df.dtypes[df.dtypes != \"object\"].index\n",
    "\n",
    "    # Check the skew of all numerical features\n",
    "    skewed_feats = df[numeric_feats].apply(lambda x: skew(x)).sort_values(ascending=False)\n",
    "    high_skew = skewed_feats[abs(skewed_feats) > 0.5]\n",
    "    skewed_features = high_skew.index\n",
    "\n",
    "    for feat in skewed_features:\n",
    "        df[feat] = boxcox1p(df[feat], boxcox_normmax(df[feat] + 1))\n",
    "\n",
    "fixing_skewness(df)"
   ]
  },
  {
   "cell_type": "code",
   "execution_count": null,
   "metadata": {},
   "outputs": [],
   "source": [
    "df_train['SalePrice'] = np.log(df_train['SalePrice'])"
   ]
  },
  {
   "cell_type": "code",
   "execution_count": 288,
   "metadata": {},
   "outputs": [
    {
     "name": "stdout",
     "output_type": "stream",
     "text": [
      "      MSZoning_FV  MSZoning_RH  MSZoning_RL  MSZoning_RM  Street_Pave  \\\n",
      "0               0            0            1            0            1   \n",
      "1               0            0            1            0            1   \n",
      "2               0            0            1            0            1   \n",
      "3               0            0            1            0            1   \n",
      "4               0            0            1            0            1   \n",
      "...           ...          ...          ...          ...          ...   \n",
      "1455            0            0            1            0            1   \n",
      "1456            0            0            1            0            1   \n",
      "1457            0            0            1            0            1   \n",
      "1458            0            0            1            0            1   \n",
      "1459            0            0            1            0            1   \n",
      "\n",
      "      Alley_NA  Alley_Pave  LotShape_IR2  LotShape_IR3  LotShape_Reg  \\\n",
      "0            1           0             0             0             1   \n",
      "1            1           0             0             0             1   \n",
      "2            1           0             0             0             0   \n",
      "3            1           0             0             0             0   \n",
      "4            1           0             0             0             0   \n",
      "...        ...         ...           ...           ...           ...   \n",
      "1455         1           0             0             0             1   \n",
      "1456         1           0             0             0             1   \n",
      "1457         1           0             0             0             1   \n",
      "1458         1           0             0             0             1   \n",
      "1459         1           0             0             0             1   \n",
      "\n",
      "      LandContour_HLS  LandContour_Low  LandContour_Lvl  LotConfig_CulDSac  \\\n",
      "0                   0                0                1                  0   \n",
      "1                   0                0                1                  0   \n",
      "2                   0                0                1                  0   \n",
      "3                   0                0                1                  0   \n",
      "4                   0                0                1                  0   \n",
      "...               ...              ...              ...                ...   \n",
      "1455                0                0                1                  0   \n",
      "1456                0                0                1                  0   \n",
      "1457                0                0                1                  0   \n",
      "1458                0                0                1                  0   \n",
      "1459                0                0                1                  0   \n",
      "\n",
      "      LotConfig_FR2  LotConfig_FR3  LotConfig_Inside  LandSlope_Mod  \\\n",
      "0                 0              0                 1              0   \n",
      "1                 1              0                 0              0   \n",
      "2                 0              0                 1              0   \n",
      "3                 0              0                 0              0   \n",
      "4                 1              0                 0              0   \n",
      "...             ...            ...               ...            ...   \n",
      "1455              0              0                 1              0   \n",
      "1456              0              0                 1              0   \n",
      "1457              0              0                 1              0   \n",
      "1458              0              0                 1              0   \n",
      "1459              0              0                 1              0   \n",
      "\n",
      "      LandSlope_Sev  Neighborhood_Blueste  Neighborhood_BrDale  \\\n",
      "0                 0                     0                    0   \n",
      "1                 0                     0                    0   \n",
      "2                 0                     0                    0   \n",
      "3                 0                     0                    0   \n",
      "4                 0                     0                    0   \n",
      "...             ...                   ...                  ...   \n",
      "1455              0                     0                    0   \n",
      "1456              0                     0                    0   \n",
      "1457              0                     0                    0   \n",
      "1458              0                     0                    0   \n",
      "1459              0                     0                    0   \n",
      "\n",
      "      Neighborhood_BrkSide  Neighborhood_ClearCr  Neighborhood_CollgCr  \\\n",
      "0                        0                     0                     1   \n",
      "1                        0                     0                     0   \n",
      "2                        0                     0                     1   \n",
      "3                        0                     0                     0   \n",
      "4                        0                     0                     0   \n",
      "...                    ...                   ...                   ...   \n",
      "1455                     0                     0                     0   \n",
      "1456                     0                     0                     0   \n",
      "1457                     0                     0                     0   \n",
      "1458                     0                     0                     0   \n",
      "1459                     0                     0                     0   \n",
      "\n",
      "      Neighborhood_Crawfor  Neighborhood_Edwards  Neighborhood_Gilbert  \\\n",
      "0                        0                     0                     0   \n",
      "1                        0                     0                     0   \n",
      "2                        0                     0                     0   \n",
      "3                        1                     0                     0   \n",
      "4                        0                     0                     0   \n",
      "...                    ...                   ...                   ...   \n",
      "1455                     0                     0                     1   \n",
      "1456                     0                     0                     0   \n",
      "1457                     1                     0                     0   \n",
      "1458                     0                     0                     0   \n",
      "1459                     0                     1                     0   \n",
      "\n",
      "      Neighborhood_IDOTRR  Neighborhood_MeadowV  Neighborhood_Mitchel  \\\n",
      "0                       0                     0                     0   \n",
      "1                       0                     0                     0   \n",
      "2                       0                     0                     0   \n",
      "3                       0                     0                     0   \n",
      "4                       0                     0                     0   \n",
      "...                   ...                   ...                   ...   \n",
      "1455                    0                     0                     0   \n",
      "1456                    0                     0                     0   \n",
      "1457                    0                     0                     0   \n",
      "1458                    0                     0                     0   \n",
      "1459                    0                     0                     0   \n",
      "\n",
      "      Neighborhood_NAmes  Neighborhood_NPkVill  Neighborhood_NWAmes  \\\n",
      "0                      0                     0                    0   \n",
      "1                      0                     0                    0   \n",
      "2                      0                     0                    0   \n",
      "3                      0                     0                    0   \n",
      "4                      0                     0                    0   \n",
      "...                  ...                   ...                  ...   \n",
      "1455                   0                     0                    0   \n",
      "1456                   0                     0                    1   \n",
      "1457                   0                     0                    0   \n",
      "1458                   1                     0                    0   \n",
      "1459                   0                     0                    0   \n",
      "\n",
      "      Neighborhood_NoRidge  Neighborhood_NridgHt  Neighborhood_OldTown  \\\n",
      "0                        0                     0                     0   \n",
      "1                        0                     0                     0   \n",
      "2                        0                     0                     0   \n",
      "3                        0                     0                     0   \n",
      "4                        1                     0                     0   \n",
      "...                    ...                   ...                   ...   \n",
      "1455                     0                     0                     0   \n",
      "1456                     0                     0                     0   \n",
      "1457                     0                     0                     0   \n",
      "1458                     0                     0                     0   \n",
      "1459                     0                     0                     0   \n",
      "\n",
      "      Neighborhood_SWISU  Neighborhood_Sawyer  Neighborhood_SawyerW  \\\n",
      "0                      0                    0                     0   \n",
      "1                      0                    0                     0   \n",
      "2                      0                    0                     0   \n",
      "3                      0                    0                     0   \n",
      "4                      0                    0                     0   \n",
      "...                  ...                  ...                   ...   \n",
      "1455                   0                    0                     0   \n",
      "1456                   0                    0                     0   \n",
      "1457                   0                    0                     0   \n",
      "1458                   0                    0                     0   \n",
      "1459                   0                    0                     0   \n",
      "\n",
      "      Neighborhood_Somerst  Neighborhood_StoneBr  Neighborhood_Timber  \\\n",
      "0                        0                     0                    0   \n",
      "1                        0                     0                    0   \n",
      "2                        0                     0                    0   \n",
      "3                        0                     0                    0   \n",
      "4                        0                     0                    0   \n",
      "...                    ...                   ...                  ...   \n",
      "1455                     0                     0                    0   \n",
      "1456                     0                     0                    0   \n",
      "1457                     0                     0                    0   \n",
      "1458                     0                     0                    0   \n",
      "1459                     0                     0                    0   \n",
      "\n",
      "      Neighborhood_Veenker  Condition1_Feedr  Condition1_Norm  \\\n",
      "0                        0                 0                1   \n",
      "1                        1                 1                0   \n",
      "2                        0                 0                1   \n",
      "3                        0                 0                1   \n",
      "4                        0                 0                1   \n",
      "...                    ...               ...              ...   \n",
      "1455                     0                 0                1   \n",
      "1456                     0                 0                1   \n",
      "1457                     0                 0                1   \n",
      "1458                     0                 0                1   \n",
      "1459                     0                 0                1   \n",
      "\n",
      "      Condition1_PosA  Condition1_PosN  Condition1_RRAe  Condition1_RRAn  \\\n",
      "0                   0                0                0                0   \n",
      "1                   0                0                0                0   \n",
      "2                   0                0                0                0   \n",
      "3                   0                0                0                0   \n",
      "4                   0                0                0                0   \n",
      "...               ...              ...              ...              ...   \n",
      "1455                0                0                0                0   \n",
      "1456                0                0                0                0   \n",
      "1457                0                0                0                0   \n",
      "1458                0                0                0                0   \n",
      "1459                0                0                0                0   \n",
      "\n",
      "      Condition1_RRNe  Condition1_RRNn  Condition2_Feedr  Condition2_Norm  \\\n",
      "0                   0                0                 0                1   \n",
      "1                   0                0                 0                1   \n",
      "2                   0                0                 0                1   \n",
      "3                   0                0                 0                1   \n",
      "4                   0                0                 0                1   \n",
      "...               ...              ...               ...              ...   \n",
      "1455                0                0                 0                1   \n",
      "1456                0                0                 0                1   \n",
      "1457                0                0                 0                1   \n",
      "1458                0                0                 0                1   \n",
      "1459                0                0                 0                1   \n",
      "\n",
      "      Condition2_PosA  Condition2_PosN  Condition2_RRAe  Condition2_RRAn  \\\n",
      "0                   0                0                0                0   \n",
      "1                   0                0                0                0   \n",
      "2                   0                0                0                0   \n",
      "3                   0                0                0                0   \n",
      "4                   0                0                0                0   \n",
      "...               ...              ...              ...              ...   \n",
      "1455                0                0                0                0   \n",
      "1456                0                0                0                0   \n",
      "1457                0                0                0                0   \n",
      "1458                0                0                0                0   \n",
      "1459                0                0                0                0   \n",
      "\n",
      "      Condition2_RRNn  BldgType_2fmCon  BldgType_Duplex  BldgType_Twnhs  \\\n",
      "0                   0                0                0               0   \n",
      "1                   0                0                0               0   \n",
      "2                   0                0                0               0   \n",
      "3                   0                0                0               0   \n",
      "4                   0                0                0               0   \n",
      "...               ...              ...              ...             ...   \n",
      "1455                0                0                0               0   \n",
      "1456                0                0                0               0   \n",
      "1457                0                0                0               0   \n",
      "1458                0                0                0               0   \n",
      "1459                0                0                0               0   \n",
      "\n",
      "      BldgType_TwnhsE  HouseStyle_1.5Unf  HouseStyle_1Story  \\\n",
      "0                   0                  0                  0   \n",
      "1                   0                  0                  1   \n",
      "2                   0                  0                  0   \n",
      "3                   0                  0                  0   \n",
      "4                   0                  0                  0   \n",
      "...               ...                ...                ...   \n",
      "1455                0                  0                  0   \n",
      "1456                0                  0                  1   \n",
      "1457                0                  0                  0   \n",
      "1458                0                  0                  1   \n",
      "1459                0                  0                  1   \n",
      "\n",
      "      HouseStyle_2.5Fin  HouseStyle_2.5Unf  HouseStyle_2Story  \\\n",
      "0                     0                  0                  1   \n",
      "1                     0                  0                  0   \n",
      "2                     0                  0                  1   \n",
      "3                     0                  0                  1   \n",
      "4                     0                  0                  1   \n",
      "...                 ...                ...                ...   \n",
      "1455                  0                  0                  1   \n",
      "1456                  0                  0                  0   \n",
      "1457                  0                  0                  1   \n",
      "1458                  0                  0                  0   \n",
      "1459                  0                  0                  0   \n",
      "\n",
      "      HouseStyle_SFoyer  HouseStyle_SLvl  RoofStyle_Gable  RoofStyle_Gambrel  \\\n",
      "0                     0                0                1                  0   \n",
      "1                     0                0                1                  0   \n",
      "2                     0                0                1                  0   \n",
      "3                     0                0                1                  0   \n",
      "4                     0                0                1                  0   \n",
      "...                 ...              ...              ...                ...   \n",
      "1455                  0                0                1                  0   \n",
      "1456                  0                0                1                  0   \n",
      "1457                  0                0                1                  0   \n",
      "1458                  0                0                0                  0   \n",
      "1459                  0                0                1                  0   \n",
      "\n",
      "      RoofStyle_Hip  RoofStyle_Mansard  RoofStyle_Shed  RoofMatl_CompShg  \\\n",
      "0                 0                  0               0                 1   \n",
      "1                 0                  0               0                 1   \n",
      "2                 0                  0               0                 1   \n",
      "3                 0                  0               0                 1   \n",
      "4                 0                  0               0                 1   \n",
      "...             ...                ...             ...               ...   \n",
      "1455              0                  0               0                 1   \n",
      "1456              0                  0               0                 1   \n",
      "1457              0                  0               0                 1   \n",
      "1458              1                  0               0                 1   \n",
      "1459              0                  0               0                 1   \n",
      "\n",
      "      RoofMatl_Membran  RoofMatl_Metal  RoofMatl_Roll  RoofMatl_Tar&Grv  \\\n",
      "0                    0               0              0                 0   \n",
      "1                    0               0              0                 0   \n",
      "2                    0               0              0                 0   \n",
      "3                    0               0              0                 0   \n",
      "4                    0               0              0                 0   \n",
      "...                ...             ...            ...               ...   \n",
      "1455                 0               0              0                 0   \n",
      "1456                 0               0              0                 0   \n",
      "1457                 0               0              0                 0   \n",
      "1458                 0               0              0                 0   \n",
      "1459                 0               0              0                 0   \n",
      "\n",
      "      RoofMatl_WdShake  RoofMatl_WdShngl  Exterior2nd_AsphShn  \\\n",
      "0                    0                 0                    0   \n",
      "1                    0                 0                    0   \n",
      "2                    0                 0                    0   \n",
      "3                    0                 0                    0   \n",
      "4                    0                 0                    0   \n",
      "...                ...               ...                  ...   \n",
      "1455                 0                 0                    0   \n",
      "1456                 0                 0                    0   \n",
      "1457                 0                 0                    0   \n",
      "1458                 0                 0                    0   \n",
      "1459                 0                 0                    0   \n",
      "\n",
      "      Exterior2nd_Brk Cmn  Exterior2nd_BrkFace  Exterior2nd_CBlock  \\\n",
      "0                       0                    0                   0   \n",
      "1                       0                    0                   0   \n",
      "2                       0                    0                   0   \n",
      "3                       0                    0                   0   \n",
      "4                       0                    0                   0   \n",
      "...                   ...                  ...                 ...   \n",
      "1455                    0                    0                   0   \n",
      "1456                    0                    0                   0   \n",
      "1457                    0                    0                   0   \n",
      "1458                    0                    0                   0   \n",
      "1459                    0                    0                   0   \n",
      "\n",
      "      Exterior2nd_CmentBd  Exterior2nd_HdBoard  Exterior2nd_ImStucc  \\\n",
      "0                       0                    0                    0   \n",
      "1                       0                    0                    0   \n",
      "2                       0                    0                    0   \n",
      "3                       0                    0                    0   \n",
      "4                       0                    0                    0   \n",
      "...                   ...                  ...                  ...   \n",
      "1455                    0                    0                    0   \n",
      "1456                    0                    0                    0   \n",
      "1457                    1                    0                    0   \n",
      "1458                    0                    0                    0   \n",
      "1459                    0                    1                    0   \n",
      "\n",
      "      Exterior2nd_MetalSd  Exterior2nd_Other  Exterior2nd_Plywood  \\\n",
      "0                       0                  0                    0   \n",
      "1                       1                  0                    0   \n",
      "2                       0                  0                    0   \n",
      "3                       0                  0                    0   \n",
      "4                       0                  0                    0   \n",
      "...                   ...                ...                  ...   \n",
      "1455                    0                  0                    0   \n",
      "1456                    0                  0                    1   \n",
      "1457                    0                  0                    0   \n",
      "1458                    1                  0                    0   \n",
      "1459                    0                  0                    0   \n",
      "\n",
      "      Exterior2nd_Stone  Exterior2nd_Stucco  Exterior2nd_VinylSd  \\\n",
      "0                     0                   0                    1   \n",
      "1                     0                   0                    0   \n",
      "2                     0                   0                    1   \n",
      "3                     0                   0                    0   \n",
      "4                     0                   0                    1   \n",
      "...                 ...                 ...                  ...   \n",
      "1455                  0                   0                    1   \n",
      "1456                  0                   0                    0   \n",
      "1457                  0                   0                    0   \n",
      "1458                  0                   0                    0   \n",
      "1459                  0                   0                    0   \n",
      "\n",
      "      Exterior2nd_Wd Sdng  Exterior2nd_Wd Shng  MasVnrType_BrkFace  \\\n",
      "0                       0                    0                   1   \n",
      "1                       0                    0                   0   \n",
      "2                       0                    0                   1   \n",
      "3                       0                    1                   0   \n",
      "4                       0                    0                   1   \n",
      "...                   ...                  ...                 ...   \n",
      "1455                    0                    0                   0   \n",
      "1456                    0                    0                   0   \n",
      "1457                    0                    0                   0   \n",
      "1458                    0                    0                   0   \n",
      "1459                    0                    0                   0   \n",
      "\n",
      "      MasVnrType_None  MasVnrType_Stone  ExterQual_Fa  ExterQual_Gd  \\\n",
      "0                   0                 0             0             1   \n",
      "1                   1                 0             0             0   \n",
      "2                   0                 0             0             1   \n",
      "3                   1                 0             0             0   \n",
      "4                   0                 0             0             1   \n",
      "...               ...               ...           ...           ...   \n",
      "1455                1                 0             0             0   \n",
      "1456                0                 1             0             0   \n",
      "1457                1                 0             0             0   \n",
      "1458                1                 0             0             0   \n",
      "1459                1                 0             0             1   \n",
      "\n",
      "      ExterQual_TA  ExterCond_Fa  ExterCond_Gd  ExterCond_Po  ExterCond_TA  \\\n",
      "0                0             0             0             0             1   \n",
      "1                1             0             0             0             1   \n",
      "2                0             0             0             0             1   \n",
      "3                1             0             0             0             1   \n",
      "4                0             0             0             0             1   \n",
      "...            ...           ...           ...           ...           ...   \n",
      "1455             1             0             0             0             1   \n",
      "1456             1             0             0             0             1   \n",
      "1457             0             0             1             0             0   \n",
      "1458             1             0             0             0             1   \n",
      "1459             0             0             0             0             1   \n",
      "\n",
      "      Foundation_CBlock  Foundation_PConc  Foundation_Slab  Foundation_Stone  \\\n",
      "0                     0                 1                0                 0   \n",
      "1                     1                 0                0                 0   \n",
      "2                     0                 1                0                 0   \n",
      "3                     0                 0                0                 0   \n",
      "4                     0                 1                0                 0   \n",
      "...                 ...               ...              ...               ...   \n",
      "1455                  0                 1                0                 0   \n",
      "1456                  1                 0                0                 0   \n",
      "1457                  0                 0                0                 1   \n",
      "1458                  1                 0                0                 0   \n",
      "1459                  1                 0                0                 0   \n",
      "\n",
      "      Foundation_Wood  BsmtQual_Fa  BsmtQual_Gd  BsmtQual_TA  BsmtCond_Gd  \\\n",
      "0                   0            0            1            0            0   \n",
      "1                   0            0            1            0            0   \n",
      "2                   0            0            1            0            0   \n",
      "3                   0            0            0            1            1   \n",
      "4                   0            0            1            0            0   \n",
      "...               ...          ...          ...          ...          ...   \n",
      "1455                0            0            1            0            0   \n",
      "1456                0            0            1            0            0   \n",
      "1457                0            0            0            1            1   \n",
      "1458                0            0            0            1            0   \n",
      "1459                0            0            0            1            0   \n",
      "\n",
      "      BsmtCond_Po  BsmtCond_TA  BsmtExposure_Gd  BsmtExposure_Mn  \\\n",
      "0               0            1                0                0   \n",
      "1               0            1                1                0   \n",
      "2               0            1                0                1   \n",
      "3               0            0                0                0   \n",
      "4               0            1                0                0   \n",
      "...           ...          ...              ...              ...   \n",
      "1455            0            1                0                0   \n",
      "1456            0            1                0                0   \n",
      "1457            0            0                0                0   \n",
      "1458            0            1                0                1   \n",
      "1459            0            1                0                0   \n",
      "\n",
      "      BsmtExposure_No  BsmtFinType1_BLQ  BsmtFinType1_GLQ  BsmtFinType1_LwQ  \\\n",
      "0                   1                 0                 1                 0   \n",
      "1                   0                 0                 0                 0   \n",
      "2                   0                 0                 1                 0   \n",
      "3                   1                 0                 0                 0   \n",
      "4                   0                 0                 1                 0   \n",
      "...               ...               ...               ...               ...   \n",
      "1455                1                 0                 0                 0   \n",
      "1456                1                 0                 0                 0   \n",
      "1457                1                 0                 1                 0   \n",
      "1458                0                 0                 1                 0   \n",
      "1459                1                 1                 0                 0   \n",
      "\n",
      "      BsmtFinType1_Rec  BsmtFinType1_Unf  BsmtFinType2_BLQ  BsmtFinType2_GLQ  \\\n",
      "0                    0                 0                 0                 0   \n",
      "1                    0                 0                 0                 0   \n",
      "2                    0                 0                 0                 0   \n",
      "3                    0                 0                 0                 0   \n",
      "4                    0                 0                 0                 0   \n",
      "...                ...               ...               ...               ...   \n",
      "1455                 0                 1                 0                 0   \n",
      "1456                 0                 0                 0                 0   \n",
      "1457                 0                 0                 0                 0   \n",
      "1458                 0                 0                 0                 0   \n",
      "1459                 0                 0                 0                 0   \n",
      "\n",
      "      BsmtFinType2_LwQ  BsmtFinType2_Rec  BsmtFinType2_Unf  Heating_GasA  \\\n",
      "0                    0                 0                 1             1   \n",
      "1                    0                 0                 1             1   \n",
      "2                    0                 0                 1             1   \n",
      "3                    0                 0                 1             1   \n",
      "4                    0                 0                 1             1   \n",
      "...                ...               ...               ...           ...   \n",
      "1455                 0                 0                 1             1   \n",
      "1456                 0                 1                 0             1   \n",
      "1457                 0                 0                 1             1   \n",
      "1458                 0                 1                 0             1   \n",
      "1459                 1                 0                 0             1   \n",
      "\n",
      "      Heating_GasW  Heating_Grav  Heating_OthW  Heating_Wall  HeatingQC_Fa  \\\n",
      "0                0             0             0             0             0   \n",
      "1                0             0             0             0             0   \n",
      "2                0             0             0             0             0   \n",
      "3                0             0             0             0             0   \n",
      "4                0             0             0             0             0   \n",
      "...            ...           ...           ...           ...           ...   \n",
      "1455             0             0             0             0             0   \n",
      "1456             0             0             0             0             0   \n",
      "1457             0             0             0             0             0   \n",
      "1458             0             0             0             0             0   \n",
      "1459             0             0             0             0             0   \n",
      "\n",
      "      HeatingQC_Gd  HeatingQC_Po  HeatingQC_TA  CentralAir_Y  \\\n",
      "0                0             0             0             1   \n",
      "1                0             0             0             1   \n",
      "2                0             0             0             1   \n",
      "3                1             0             0             1   \n",
      "4                0             0             0             1   \n",
      "...            ...           ...           ...           ...   \n",
      "1455             0             0             0             1   \n",
      "1456             0             0             1             1   \n",
      "1457             0             0             0             1   \n",
      "1458             1             0             0             1   \n",
      "1459             1             0             0             1   \n",
      "\n",
      "      Electrical_FuseF  Electrical_FuseP  Electrical_Mix  Electrical_SBrkr  \\\n",
      "0                    0                 0               0                 1   \n",
      "1                    0                 0               0                 1   \n",
      "2                    0                 0               0                 1   \n",
      "3                    0                 0               0                 1   \n",
      "4                    0                 0               0                 1   \n",
      "...                ...               ...             ...               ...   \n",
      "1455                 0                 0               0                 1   \n",
      "1456                 0                 0               0                 1   \n",
      "1457                 0                 0               0                 1   \n",
      "1458                 0                 0               0                 0   \n",
      "1459                 0                 0               0                 1   \n",
      "\n",
      "      KitchenQual_Fa  KitchenQual_Gd  KitchenQual_TA  Functional_Maj2  \\\n",
      "0                  0               1               0                0   \n",
      "1                  0               0               1                0   \n",
      "2                  0               1               0                0   \n",
      "3                  0               1               0                0   \n",
      "4                  0               1               0                0   \n",
      "...              ...             ...             ...              ...   \n",
      "1455               0               0               1                0   \n",
      "1456               0               0               1                0   \n",
      "1457               0               1               0                0   \n",
      "1458               0               1               0                0   \n",
      "1459               0               0               1                0   \n",
      "\n",
      "      Functional_Min1  Functional_Min2  Functional_Mod  Functional_Sev  \\\n",
      "0                   0                0               0               0   \n",
      "1                   0                0               0               0   \n",
      "2                   0                0               0               0   \n",
      "3                   0                0               0               0   \n",
      "4                   0                0               0               0   \n",
      "...               ...              ...             ...             ...   \n",
      "1455                0                0               0               0   \n",
      "1456                1                0               0               0   \n",
      "1457                0                0               0               0   \n",
      "1458                0                0               0               0   \n",
      "1459                0                0               0               0   \n",
      "\n",
      "      Functional_Typ  FireplaceQu_Fa  FireplaceQu_Gd  FireplaceQu_NA  \\\n",
      "0                  1               0               0               1   \n",
      "1                  1               0               0               0   \n",
      "2                  1               0               0               0   \n",
      "3                  1               0               1               0   \n",
      "4                  1               0               0               0   \n",
      "...              ...             ...             ...             ...   \n",
      "1455               1               0               0               0   \n",
      "1456               0               0               0               0   \n",
      "1457               1               0               1               0   \n",
      "1458               1               0               0               1   \n",
      "1459               1               0               0               1   \n",
      "\n",
      "      FireplaceQu_Po  FireplaceQu_TA  GarageType_Attchd  GarageType_Basment  \\\n",
      "0                  0               0                  1                   0   \n",
      "1                  0               1                  1                   0   \n",
      "2                  0               1                  1                   0   \n",
      "3                  0               0                  0                   0   \n",
      "4                  0               1                  1                   0   \n",
      "...              ...             ...                ...                 ...   \n",
      "1455               0               1                  1                   0   \n",
      "1456               0               1                  1                   0   \n",
      "1457               0               0                  1                   0   \n",
      "1458               0               0                  1                   0   \n",
      "1459               0               0                  1                   0   \n",
      "\n",
      "      GarageType_BuiltIn  GarageType_CarPort  GarageType_Detchd  \\\n",
      "0                      0                   0                  0   \n",
      "1                      0                   0                  0   \n",
      "2                      0                   0                  0   \n",
      "3                      0                   0                  1   \n",
      "4                      0                   0                  0   \n",
      "...                  ...                 ...                ...   \n",
      "1455                   0                   0                  0   \n",
      "1456                   0                   0                  0   \n",
      "1457                   0                   0                  0   \n",
      "1458                   0                   0                  0   \n",
      "1459                   0                   0                  0   \n",
      "\n",
      "      GarageType_NA  GarageFinish_NA  GarageFinish_RFn  GarageFinish_Unf  \\\n",
      "0                 0                0                 1                 0   \n",
      "1                 0                0                 1                 0   \n",
      "2                 0                0                 1                 0   \n",
      "3                 0                0                 0                 1   \n",
      "4                 0                0                 1                 0   \n",
      "...             ...              ...               ...               ...   \n",
      "1455              0                0                 1                 0   \n",
      "1456              0                0                 0                 1   \n",
      "1457              0                0                 1                 0   \n",
      "1458              0                0                 0                 1   \n",
      "1459              0                0                 0                 0   \n",
      "\n",
      "      GarageQual_Fa  GarageQual_Gd  GarageQual_NA  GarageQual_Po  \\\n",
      "0                 0              0              0              0   \n",
      "1                 0              0              0              0   \n",
      "2                 0              0              0              0   \n",
      "3                 0              0              0              0   \n",
      "4                 0              0              0              0   \n",
      "...             ...            ...            ...            ...   \n",
      "1455              0              0              0              0   \n",
      "1456              0              0              0              0   \n",
      "1457              0              0              0              0   \n",
      "1458              0              0              0              0   \n",
      "1459              0              0              0              0   \n",
      "\n",
      "      GarageQual_TA  GarageCond_Fa  GarageCond_Gd  GarageCond_NA  \\\n",
      "0                 1              0              0              0   \n",
      "1                 1              0              0              0   \n",
      "2                 1              0              0              0   \n",
      "3                 1              0              0              0   \n",
      "4                 1              0              0              0   \n",
      "...             ...            ...            ...            ...   \n",
      "1455              1              0              0              0   \n",
      "1456              1              0              0              0   \n",
      "1457              1              0              0              0   \n",
      "1458              1              0              0              0   \n",
      "1459              1              0              0              0   \n",
      "\n",
      "      GarageCond_Po  GarageCond_TA  PavedDrive_P  PavedDrive_Y  PoolQC_Fa  \\\n",
      "0                 0              1             0             1          0   \n",
      "1                 0              1             0             1          0   \n",
      "2                 0              1             0             1          0   \n",
      "3                 0              1             0             1          0   \n",
      "4                 0              1             0             1          0   \n",
      "...             ...            ...           ...           ...        ...   \n",
      "1455              0              1             0             1          0   \n",
      "1456              0              1             0             1          0   \n",
      "1457              0              1             0             1          0   \n",
      "1458              0              1             0             1          0   \n",
      "1459              0              1             0             1          0   \n",
      "\n",
      "      PoolQC_Gd  PoolQC_NA  Fence_GdWo  Fence_MnPrv  Fence_MnWw  Fence_NA  \\\n",
      "0             0          1           0            0           0         1   \n",
      "1             0          1           0            0           0         1   \n",
      "2             0          1           0            0           0         1   \n",
      "3             0          1           0            0           0         1   \n",
      "4             0          1           0            0           0         1   \n",
      "...         ...        ...         ...          ...         ...       ...   \n",
      "1455          0          1           0            0           0         1   \n",
      "1456          0          1           0            1           0         0   \n",
      "1457          0          1           0            0           0         0   \n",
      "1458          0          1           0            0           0         1   \n",
      "1459          0          1           0            0           0         1   \n",
      "\n",
      "      MiscFeature_NA  MiscFeature_Othr  MiscFeature_Shed  MiscFeature_TenC  \\\n",
      "0                  1                 0                 0                 0   \n",
      "1                  1                 0                 0                 0   \n",
      "2                  1                 0                 0                 0   \n",
      "3                  1                 0                 0                 0   \n",
      "4                  1                 0                 0                 0   \n",
      "...              ...               ...               ...               ...   \n",
      "1455               1                 0                 0                 0   \n",
      "1456               1                 0                 0                 0   \n",
      "1457               0                 0                 1                 0   \n",
      "1458               1                 0                 0                 0   \n",
      "1459               1                 0                 0                 0   \n",
      "\n",
      "      SaleType_CWD  SaleType_Con  SaleType_ConLD  SaleType_ConLI  \\\n",
      "0                0             0               0               0   \n",
      "1                0             0               0               0   \n",
      "2                0             0               0               0   \n",
      "3                0             0               0               0   \n",
      "4                0             0               0               0   \n",
      "...            ...           ...             ...             ...   \n",
      "1455             0             0               0               0   \n",
      "1456             0             0               0               0   \n",
      "1457             0             0               0               0   \n",
      "1458             0             0               0               0   \n",
      "1459             0             0               0               0   \n",
      "\n",
      "      SaleType_ConLw  SaleType_New  SaleType_Oth  SaleType_WD  \\\n",
      "0                  0             0             0            1   \n",
      "1                  0             0             0            1   \n",
      "2                  0             0             0            1   \n",
      "3                  0             0             0            1   \n",
      "4                  0             0             0            1   \n",
      "...              ...           ...           ...          ...   \n",
      "1455               0             0             0            1   \n",
      "1456               0             0             0            1   \n",
      "1457               0             0             0            1   \n",
      "1458               0             0             0            1   \n",
      "1459               0             0             0            1   \n",
      "\n",
      "      SaleCondition_AdjLand  SaleCondition_Alloca  SaleCondition_Family  \\\n",
      "0                         0                     0                     0   \n",
      "1                         0                     0                     0   \n",
      "2                         0                     0                     0   \n",
      "3                         0                     0                     0   \n",
      "4                         0                     0                     0   \n",
      "...                     ...                   ...                   ...   \n",
      "1455                      0                     0                     0   \n",
      "1456                      0                     0                     0   \n",
      "1457                      0                     0                     0   \n",
      "1458                      0                     0                     0   \n",
      "1459                      0                     0                     0   \n",
      "\n",
      "      SaleCondition_Normal  SaleCondition_Partial  \n",
      "0                        1                      0  \n",
      "1                        1                      0  \n",
      "2                        1                      0  \n",
      "3                        0                      0  \n",
      "4                        1                      0  \n",
      "...                    ...                    ...  \n",
      "1455                     1                      0  \n",
      "1456                     1                      0  \n",
      "1457                     1                      0  \n",
      "1458                     1                      0  \n",
      "1459                     1                      0  \n",
      "\n",
      "[1460 rows x 203 columns]\n"
     ]
    }
   ],
   "source": [
    "\n",
    "\n",
    "#changing some Nan values to NA or 0\n",
    "df['LotFrontage'] =df['LotFrontage'].replace(np.nan,0,regex=True)\n",
    "df['MasVnrArea'] =df['MasVnrArea'].replace(np.nan,0,regex=True)\n",
    "df['Alley'] =df['Alley'].replace(np.nan,'NA',regex=True)\n",
    "df['FireplaceQu'] =df['FireplaceQu'].replace(np.nan,'NA',regex=True)\n",
    "df['GarageType'] =df['GarageType'].replace(np.nan,'NA',regex=True)\n",
    "df['GarageQual'] =df['GarageQual'].replace(np.nan,'NA',regex=True)\n",
    "df['GarageCond'] =df['GarageCond'].replace(np.nan,'NA',regex=True)\n",
    "df['GarageFinish'] =df['GarageFinish'].replace(np.nan,'NA',regex=True)\n",
    "#df['GarageYrBlt'] =df['GarageYrBlt'].replace(np.nan,'NA',regex=True)\n",
    "df['PoolQC'] =df['PoolQC'].replace(np.nan,'NA',regex=True)\n",
    "df['MiscFeature'] =df['MiscFeature'].replace(np.nan,'NA',regex=True)\n",
    "df['Fence'] =df['Fence'].replace(np.nan,'NA',regex=True)\n",
    "\n",
    "#Fixing the null values in the GarageYrBuilt\n",
    "df['GarageYrBlt'] = df.apply(lambda x: fill_in_garage_yr(x['YearBuilt'],x['GarageYrBlt']),axis=1)\n",
    "\n",
    "#Getting all the dummies\n",
    "dummies= pd.get_dummies(df['MSSubClass'],drop_first=True)\n",
    "df = pd.concat([df.drop('MSSubClass',axis=1),dummies],axis=1)\n",
    "dummies= pd.get_dummies(df[['MSZoning','Street','Alley','LotShape','LandContour','LotConfig','LandSlope',\n",
    "                            'Neighborhood','Condition1','Condition2','BldgType','HouseStyle','RoofStyle',\n",
    "                            'RoofMatl','Exterior2nd','MasVnrType','ExterQual','ExterCond','Foundation',\n",
    "                           'BsmtQual','BsmtCond','BsmtExposure','BsmtFinType1','BsmtFinType2','Heating',\n",
    "                            'HeatingQC','CentralAir','Electrical','KitchenQual', 'Functional', \n",
    "                            'FireplaceQu', 'GarageType','GarageFinish', 'GarageQual', 'GarageCond', \n",
    "                            'PavedDrive', 'PoolQC','Fence', 'MiscFeature', 'SaleType', 'SaleCondition'\n",
    "                           ]],drop_first=True)\n",
    "print(dummies)\n",
    "df = df.drop(['MSZoning','Street','Alley','LotShape','LandContour','LotConfig','LandSlope',\n",
    "              'Neighborhood','Condition1','Condition2','BldgType','HouseStyle','RoofStyle',\n",
    "              'RoofMatl','Exterior1st','Exterior2nd','MasVnrType','ExterQual','ExterCond','Foundation',\n",
    "              'BsmtQual','BsmtCond','BsmtExposure','BsmtFinType1','BsmtFinType2','Heating',\n",
    "              'HeatingQC','CentralAir','Electrical','KitchenQual', 'Functional', 'FireplaceQu', 'GarageType',\n",
    "               'GarageFinish', 'GarageQual', 'GarageCond', 'PavedDrive', 'PoolQC',\n",
    "               'Fence', 'MiscFeature', 'SaleType', 'SaleCondition'],axis=1)\n",
    "df = pd.concat([df,dummies],axis=1)"
   ]
  },
  {
   "cell_type": "code",
   "execution_count": null,
   "metadata": {},
   "outputs": [],
   "source": []
  }
 ],
 "metadata": {
  "kernelspec": {
   "display_name": "Python 3",
   "language": "python",
   "name": "python3"
  },
  "language_info": {
   "codemirror_mode": {
    "name": "ipython",
    "version": 3
   },
   "file_extension": ".py",
   "mimetype": "text/x-python",
   "name": "python",
   "nbconvert_exporter": "python",
   "pygments_lexer": "ipython3",
   "version": "3.7.6"
  }
 },
 "nbformat": 4,
 "nbformat_minor": 4
}
